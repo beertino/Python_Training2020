{
 "cells": [
  {
   "cell_type": "markdown",
   "metadata": {},
   "source": [
    "# Object Oriented Programming\n",
    "\n",
    "**Objectives:**\n",
    "* Define and understand classes and objects.\n",
    "* Understand encapsulation and how classes support information hiding and implementation independence.\n",
    "* Understand inheritance and how it promotes software reuse.\n",
    "* Understand polymorphism and how it enables code generalisation.\n",
    "* Exclude: method overloading and multiple inheritance\n"
   ]
  },
  {
   "cell_type": "markdown",
   "metadata": {},
   "source": [
    "## 0. Recap\n",
    "\n",
    "We have used many Python's built-in classes, e.g. `int`, `str`, `float`, `list`, `tuple` etc.\n",
    "\n",
    "**Question:**\n",
    "\n",
    "How to find out the class of an object, e.g. `a = 'abc'`?\n",
    "* The built-in method `type()` returns type (class) of an object. \n",
    "* It actually make use of the `__class__` attribute of the object."
   ]
  },
  {
   "cell_type": "code",
   "execution_count": 1,
   "metadata": {},
   "outputs": [],
   "source": [
    "a='abc'\n",
    "a.*?"
   ]
  },
  {
   "cell_type": "markdown",
   "metadata": {},
   "source": [
    "**Question:**\n",
    "\n",
    "What are the attributes in the object `a = 'abc'` ?\n",
    "* Make use of help function provided by Jupyter Notebook.\n",
    "* Or use built-in `dir()` method."
   ]
  },
  {
   "cell_type": "code",
   "execution_count": 2,
   "metadata": {},
   "outputs": [
    {
     "data": {
      "text/plain": "['__add__',\n '__class__',\n '__contains__',\n '__delattr__',\n '__dir__',\n '__doc__',\n '__eq__',\n '__format__',\n '__ge__',\n '__getattribute__',\n '__getitem__',\n '__getnewargs__',\n '__gt__',\n '__hash__',\n '__init__',\n '__init_subclass__',\n '__iter__',\n '__le__',\n '__len__',\n '__lt__',\n '__mod__',\n '__mul__',\n '__ne__',\n '__new__',\n '__reduce__',\n '__reduce_ex__',\n '__repr__',\n '__rmod__',\n '__rmul__',\n '__setattr__',\n '__sizeof__',\n '__str__',\n '__subclasshook__',\n 'capitalize',\n 'casefold',\n 'center',\n 'count',\n 'encode',\n 'endswith',\n 'expandtabs',\n 'find',\n 'format',\n 'format_map',\n 'index',\n 'isalnum',\n 'isalpha',\n 'isascii',\n 'isdecimal',\n 'isdigit',\n 'isidentifier',\n 'islower',\n 'isnumeric',\n 'isprintable',\n 'isspace',\n 'istitle',\n 'isupper',\n 'join',\n 'ljust',\n 'lower',\n 'lstrip',\n 'maketrans',\n 'partition',\n 'replace',\n 'rfind',\n 'rindex',\n 'rjust',\n 'rpartition',\n 'rsplit',\n 'rstrip',\n 'split',\n 'splitlines',\n 'startswith',\n 'strip',\n 'swapcase',\n 'title',\n 'translate',\n 'upper',\n 'zfill']"
     },
     "execution_count": 2,
     "metadata": {},
     "output_type": "execute_result"
    }
   ],
   "source": [
    "dir(a)"
   ]
  },
  {
   "cell_type": "markdown",
   "metadata": {},
   "source": [
    "**Question:**\n",
    "\n",
    "How to check whether an object belongs to a particular class?\n",
    "\n",
    "* The `isinstance()` method can be used to test whether an object belongs to a class.\n",
    "* All classes have an attribute `__name__` which returns string representation of class name."
   ]
  },
  {
   "cell_type": "code",
   "execution_count": 4,
   "metadata": {},
   "outputs": [
    {
     "name": "stdout",
     "output_type": "stream",
     "text": "True\nTrue\nTrue\nstr\n"
    }
   ],
   "source": [
    "print(isinstance(a,str))\n",
    "print(type(a) is str)\n",
    "print(a.__class__ is str)\n",
    "print(type(a).__name__)"
   ]
  },
  {
   "cell_type": "markdown",
   "metadata": {},
   "source": [
    "In Python, everything is an object. \n",
    "* This includes classes (types).\n",
    "* The `id()` method can be used to get unique ID of an object.\n",
    "\n",
    "**Question:**\n",
    "\n",
    "What is the ID of the `str` class, and ID of a str object `a = 'abc'`?"
   ]
  },
  {
   "cell_type": "code",
   "execution_count": 5,
   "metadata": {},
   "outputs": [
    {
     "name": "stdout",
     "output_type": "stream",
     "text": "140720095198800\n2725840065840\n140720095198800\n"
    }
   ],
   "source": [
    "print(id(str))\n",
    "a='abc'\n",
    "print(id(a))\n",
    "print(id(type(a)))"
   ]
  },
  {
   "cell_type": "markdown",
   "metadata": {},
   "source": [
    "## 1. Class Basics\n",
    "\n",
    "Classes are blueprints/template for objects. They define the **structure** and **behavior** of objects. \n",
    "* Python is highly object-oriented. \n",
    "* But it does not force you to use it until you need to do so. \n",
    "\n",
    "Creating a new object is called `instantiation`. An **object** of a class is also called an **instance** of that class.\n",
    "* Multiple objects can be created from same class."
   ]
  },
  {
   "cell_type": "markdown",
   "metadata": {},
   "source": [
    "### Class Definition\n",
    "\n",
    "Classes are defined using the `class` keyword followed by CamelCase name.\n",
    "* Class instances are created by calling the class as if it is a function."
   ]
  },
  {
   "cell_type": "code",
   "execution_count": 6,
   "metadata": {},
   "outputs": [
    {
     "name": "stdout",
     "output_type": "stream",
     "text": "2725935340280\n2725935340568\n"
    }
   ],
   "source": [
    "def demo():\n",
    "    pass\n",
    "\n",
    "def demo1():\n",
    "    pass\n",
    "\n",
    "print(id(demo))\n",
    "print(id(demo1))"
   ]
  },
  {
   "cell_type": "code",
   "execution_count": 7,
   "metadata": {},
   "outputs": [
    {
     "data": {
      "text/plain": "True"
     },
     "execution_count": 7,
     "metadata": {},
     "output_type": "execute_result"
    }
   ],
   "source": [
    "class Vehicle:\n",
    "    pass\n",
    "\n",
    "v=Vehicle()\n",
    "isinstance(v,Vehicle)"
   ]
  },
  {
   "cell_type": "code",
   "execution_count": 8,
   "metadata": {},
   "outputs": [
    {
     "data": {
      "text/plain": "['__class__',\n '__delattr__',\n '__dict__',\n '__dir__',\n '__doc__',\n '__eq__',\n '__format__',\n '__ge__',\n '__getattribute__',\n '__gt__',\n '__hash__',\n '__init__',\n '__init_subclass__',\n '__le__',\n '__lt__',\n '__module__',\n '__ne__',\n '__new__',\n '__reduce__',\n '__reduce_ex__',\n '__repr__',\n '__setattr__',\n '__sizeof__',\n '__str__',\n '__subclasshook__',\n '__weakref__']"
     },
     "execution_count": 8,
     "metadata": {},
     "output_type": "execute_result"
    }
   ],
   "source": [
    "dir(Vehicle)"
   ]
  },
  {
   "cell_type": "markdown",
   "metadata": {},
   "source": [
    "When you print an instance, Python shows its class and its memory location."
   ]
  },
  {
   "cell_type": "code",
   "execution_count": null,
   "metadata": {},
   "outputs": [],
   "source": [
    "print(Vehicle)\n",
    "print(v)"
   ]
  },
  {
   "cell_type": "markdown",
   "metadata": {},
   "source": [
    "### Instance Attributes\n",
    "\n",
    "You can assign values to an object using dot notation. These values are called `attributes` of the instance. \n",
    "* In Python, you do NOT need to declare a variable before using it. Similarly, you do NOT need to declare an attribute for an object before you use it either.\n",
    "* Assigning value to an non-existence attribute will create that attribute.\n",
    "* But using a non-existing attribute directly will cause an `AttributeError` Exception."
   ]
  },
  {
   "cell_type": "markdown",
   "metadata": {},
   "source": [
    "**Exercise:**\n",
    "\n",
    "* Create an object `v` of class `Vehicle`\n",
    "* Check whether `v` has an attribute `color` using either `hasattr()` or `dir()` method\n",
    "* Assign value `blue` to its attribute `color`\n",
    "* Check existence of `color` attribute again "
   ]
  },
  {
   "cell_type": "code",
   "execution_count": 10,
   "metadata": {},
   "outputs": [
    {
     "name": "stdout",
     "output_type": "stream",
     "text": "False\nTrue\nblue\n"
    }
   ],
   "source": [
    "v=Vehicle()\n",
    "print(hasattr(v,'color'))\n",
    "v.color='blue'\n",
    "print(hasattr(v,'color'))\n",
    "print(v.color)"
   ]
  },
  {
   "cell_type": "code",
   "execution_count": 12,
   "metadata": {},
   "outputs": [
    {
     "ename": "AttributeError",
     "evalue": "'Vehicle' object has no attribute 'wheels'",
     "output_type": "error",
     "traceback": [
      "\u001b[1;31m---------------------------------------------------------------------------\u001b[0m",
      "\u001b[1;31mAttributeError\u001b[0m                            Traceback (most recent call last)",
      "\u001b[1;32m<ipython-input-12-d9c9e9073bae>\u001b[0m in \u001b[0;36m<module>\u001b[1;34m\u001b[0m\n\u001b[0;32m      3\u001b[0m \u001b[0mv1\u001b[0m\u001b[1;33m.\u001b[0m\u001b[0mwheels\u001b[0m\u001b[1;33m,\u001b[0m \u001b[0mv2\u001b[0m\u001b[1;33m.\u001b[0m\u001b[0mcolor\u001b[0m\u001b[1;33m=\u001b[0m \u001b[1;36m4\u001b[0m\u001b[1;33m,\u001b[0m \u001b[1;34m'blue'\u001b[0m\u001b[1;33m\u001b[0m\u001b[1;33m\u001b[0m\u001b[0m\n\u001b[0;32m      4\u001b[0m \u001b[1;33m\u001b[0m\u001b[0m\n\u001b[1;32m----> 5\u001b[1;33m \u001b[0mprint\u001b[0m\u001b[1;33m(\u001b[0m\u001b[0mv2\u001b[0m\u001b[1;33m.\u001b[0m\u001b[0mwheels\u001b[0m\u001b[1;33m)\u001b[0m\u001b[1;33m\u001b[0m\u001b[1;33m\u001b[0m\u001b[0m\n\u001b[0m\u001b[0;32m      6\u001b[0m \u001b[0mprint\u001b[0m\u001b[1;33m(\u001b[0m\u001b[0mv1\u001b[0m\u001b[1;33m.\u001b[0m\u001b[0mcolor\u001b[0m\u001b[1;33m)\u001b[0m\u001b[1;33m\u001b[0m\u001b[1;33m\u001b[0m\u001b[0m\n",
      "\u001b[1;31mAttributeError\u001b[0m: 'Vehicle' object has no attribute 'wheels'"
     ]
    }
   ],
   "source": [
    "v1, v2= Vehicle(), Vehicle()\n",
    "\n",
    "v1.wheels, v2.color= 4, 'blue'\n",
    "\n",
    "print(v2.wheels)\n",
    "print(v1.color)"
   ]
  },
  {
   "cell_type": "markdown",
   "metadata": {},
   "source": [
    "**Question:**\n",
    "\n",
    "What happens if you try to print out an non-existence attribute `horsepower`?\n",
    "* It causes `AttributeError` because `wheels` attribute does not exist "
   ]
  },
  {
   "cell_type": "code",
   "execution_count": null,
   "metadata": {},
   "outputs": [],
   "source": []
  },
  {
   "cell_type": "markdown",
   "metadata": {},
   "source": [
    "### Initializer Method \\_\\_init\\_\\_()\n",
    "\n",
    "Python class has an initializer method, `__init__()`, which will be automatically called to initialize the newly created object.\n",
    "* `__init__()` is a **dunder** method which generally are used by Python compiler.\n",
    "* Its definition is similar to function definition except that its first argument is `self`.\n",
    "* It can take in additional arguments.\n",
    "\n",
    "#### Instance Attributes\n",
    "\n",
    "Its common to initialize **Instance Attributes** in the initializer method `__init__()`.\n",
    "\n",
    "#### Keyword `self`\n",
    "\n",
    "To access any instance method or instance attribute in the class, you need to prefix it with `self.`."
   ]
  },
  {
   "cell_type": "code",
   "execution_count": null,
   "metadata": {},
   "outputs": [],
   "source": [
    "class Vehicle:\n",
    "    #the following function is called the constructor function of the class Vehicle\n",
    "    def __init__(self, horsepower, color='black',wheels=4):\n",
    "        self.horsepower=horsepower\n",
    "        self.color=color\n",
    "        self.wheels=wheels"
   ]
  },
  {
   "cell_type": "markdown",
   "metadata": {},
   "source": [
    "### Instance Methods\n",
    "\n",
    "**Methods** are functions defined within a class.\n",
    "**Instance Methods** are functions can be called on objects. \n",
    "* It defines the **behavior** of objects of the class.\n",
    "* Methods are called using `instance.method()`. \n",
    "\n",
    "**Argument `self`**\n",
    "* The `self` attribute must be the first input parameter for all instance methods.\n",
    "* The `self` attribute is refer to current object of the class, i.e. the instance calling the method. \n",
    "    * This is similar to the `this` in C# or Java.\n",
    "* When a instance method is called, `self` argument is omitted."
   ]
  },
  {
   "cell_type": "code",
   "execution_count": 14,
   "metadata": {},
   "outputs": [
    {
     "data": {
      "text/plain": "'100hp = 74.5699872 kw'"
     },
     "execution_count": 14,
     "metadata": {},
     "output_type": "execute_result"
    }
   ],
   "source": [
    "class Vehicle:\n",
    "    #the following function is called the constructor function of the class Vehicle\n",
    "    def __init__(self, horsepower, color='black',wheels=4):\n",
    "        self.horsepower=horsepower\n",
    "        self.color=color\n",
    "        self.wheels=wheels\n",
    "\n",
    "    def engine_power_hp(self):\n",
    "        return self.horsepower\n",
    "\n",
    "    def engine_power_kw(self):\n",
    "        return self.horsepower*0.745699872\n",
    "\n",
    "v=Vehicle(100,'Blue')\n",
    "'{} hp = {} kw'.format(v.engine_power_hp(),v.engine_power_kw())"
   ]
  },
  {
   "cell_type": "markdown",
   "metadata": {},
   "source": [
    "### Naming Conventions"
   ]
  },
  {
   "cell_type": "markdown",
   "metadata": {},
   "source": [
    "A class may contain following attributes:\n",
    "* instance variables\n",
    "* class variables\n",
    "* constructor\n",
    "* instance methods\n",
    "* static methods\n",
    "* class methods\n",
    "\n",
    "Python has a recommend convention for naming of classes and their attributes. It is good to follow these convention for readability of your code.\n",
    "\n",
    "https://visualgit.readthedocs.io/en/latest/pages/naming_convention.html\n"
   ]
  },
  {
   "cell_type": "markdown",
   "metadata": {},
   "source": [
    "### Docstring\n",
    "\n",
    "Similiar to modules and functions. You can add docstring to class and its methods.\n",
    "* Docstring is enclosed by triple-quotes\n",
    "* It must be the 1st statement in the class\n",
    "* Docstrings can be accesses by `__doc__` attribute\n",
    "* It is used by the `help()` function"
   ]
  },
  {
   "cell_type": "code",
   "execution_count": 16,
   "metadata": {},
   "outputs": [
    {
     "name": "stdout",
     "output_type": "stream",
     "text": "Help on class Vehicle in module __main__:\n\nclass Vehicle(builtins.object)\n |  Vehicle(horsepower, color='black', wheels=4)\n |  \n |  Class Vehicle\n |  Attributes: horsepower,color\n |  methods: engine_power_hp(), engine_power_kw()\n |  \n |  Methods defined here:\n |  \n |  __init__(self, horsepower, color='black', wheels=4)\n |      Initialize self.  See help(type(self)) for accurate signature.\n |  \n |  engine_power_hp(self)\n |  \n |  engine_power_kw(self)\n |  \n |  ----------------------------------------------------------------------\n |  Data descriptors defined here:\n |  \n |  __dict__\n |      dictionary for instance variables (if defined)\n |  \n |  __weakref__\n |      list of weak references to the object (if defined)\n\n"
    }
   ],
   "source": [
    "class Vehicle:\n",
    "    ''' Class Vehicle\n",
    "        Attributes: horsepower,color\n",
    "        methods: engine_power_hp(), engine_power_kw()\n",
    "    '''\n",
    "    #the following function is called the constructor function of the class Vehicle\n",
    "    def __init__(self, horsepower, color='black',wheels=4):\n",
    "        self.horsepower=horsepower\n",
    "        self.color=color\n",
    "        self.wheels=wheels\n",
    "\n",
    "    def engine_power_hp(self):\n",
    "        return self.horsepower\n",
    "\n",
    "    def engine_power_kw(self):\n",
    "        return self.horsepower*0.745699872\n",
    "\n",
    "#v=Vehicle(100,'Blue')\n",
    "#'{} hp = {} kw'.format(v.engine_power_hp(),v.engine_power_kw())\n",
    "\n",
    "help(Vehicle)"
   ]
  },
  {
   "cell_type": "code",
   "execution_count": null,
   "metadata": {},
   "outputs": [],
   "source": []
  },
  {
   "cell_type": "markdown",
   "metadata": {},
   "source": [
    "## 2. Convert to Object to String\n",
    "\n",
    "Python provides 2 methods `str()` and `repr()` to convert an object to string. "
   ]
  },
  {
   "cell_type": "code",
   "execution_count": 17,
   "metadata": {},
   "outputs": [
    {
     "name": "stdout",
     "output_type": "stream",
     "text": "[0, 1, 2, 3, 4]\n[0, 1, 2, 3, 4]\n"
    }
   ],
   "source": [
    "s = list(range(5))\n",
    "print(str(s))\n",
    "print(repr(s))"
   ]
  },
  {
   "cell_type": "markdown",
   "metadata": {},
   "source": [
    "### Difference between str() and repr()\n",
    "\n",
    "The `str()` function is meant to return representations of values which are fairly human-readable, while `repr()` is meant to generate representations which can be read by the interpreter."
   ]
  },
  {
   "cell_type": "code",
   "execution_count": 18,
   "metadata": {},
   "outputs": [
    {
     "name": "stdout",
     "output_type": "stream",
     "text": "abc\tdef\n'abc\\tdef'\n"
    }
   ],
   "source": [
    "s = 'abc\\tdef'\n",
    "print(s)        #more user friendly\n",
    "print(repr(s))  #more dev friendly"
   ]
  },
  {
   "cell_type": "markdown",
   "metadata": {},
   "source": [
    "The `repr()` method returns a printable representational string of the given object, which would yield an object with the same value when passed to eval()."
   ]
  },
  {
   "cell_type": "code",
   "execution_count": null,
   "metadata": {},
   "outputs": [],
   "source": []
  },
  {
   "cell_type": "markdown",
   "metadata": {},
   "source": [
    "The `str()` method returns the \"informal\" or nicely printable representation of a given object, which is suitable to present information to end-user."
   ]
  },
  {
   "cell_type": "code",
   "execution_count": null,
   "metadata": {},
   "outputs": [],
   "source": []
  },
  {
   "cell_type": "markdown",
   "metadata": {},
   "source": [
    "By default, the `print()` method uses `str()` to convert object to string.\n",
    "\n",
    "In the `format()` method, you can use converstion flag`!s` and `!r` to call `str()` and `repr()` methods respectively."
   ]
  },
  {
   "cell_type": "code",
   "execution_count": null,
   "metadata": {},
   "outputs": [],
   "source": []
  },
  {
   "cell_type": "markdown",
   "metadata": {},
   "source": [
    "### Implement `__str__()` and `__repr__()` for Custom Object\n",
    "\n",
    "By default, our `Vehicle` class inherits `__str__()` and `__repr__()` methods from `Object` class, which print class name and memory location of the object. "
   ]
  },
  {
   "cell_type": "code",
   "execution_count": null,
   "metadata": {},
   "outputs": [],
   "source": []
  },
  {
   "cell_type": "markdown",
   "metadata": {},
   "source": [
    "Internally, `repr()` method calls `__repr__()` method of the given object, and `str()` method calls `__str__()` method of given object.\n",
    "\n",
    "**Exercise:**\n",
    "\n",
    "For our `Vehicle` class to support `str()` and `repr()` methods, we can implement `__repr__()` and `__str__()` methods in the class. For example, \n",
    "* the `str()` will print out `\"Vehicle: A1234\"`\n",
    "* the `repr()` will print out `\"Vehicle('A1234')\"`"
   ]
  },
  {
   "cell_type": "code",
   "execution_count": 19,
   "metadata": {},
   "outputs": [
    {
     "name": "stdout",
     "output_type": "stream",
     "text": "Vehicle: A1234\nVehicle('A1234')\n"
    }
   ],
   "source": [
    "class Vehicle:\n",
    "    def __init__(self,plate):\n",
    "        self.plate = plate\n",
    "\n",
    "    def __str__(self):\n",
    "        return 'Vehicle: {}'.format(self.plate)\n",
    "\n",
    "    def __repr__(self):\n",
    "        return \"Vehicle('{}')\".format(self.plate)\n",
    "\n",
    "v=Vehicle('A1234')\n",
    "\n",
    "print(str(v)) # same as print(v)\n",
    "print(repr(v))"
   ]
  },
  {
   "cell_type": "markdown",
   "metadata": {},
   "source": [
    "## 3. Class Attributes\n",
    "\n",
    "\n",
    "Class Attributes are attributes which belong to class instead of a particular object.\n",
    "* It can be accessed through either class or instance.\n",
    "\n",
    "### Example 1\n",
    "Create a `Time` class contains 3 instance attributes, `hour`, `minute` and `second`. \n",
    "* Implement its `__str__()` method which return time in \"hh:mm:ss\" format.\n",
    "\n",
    "<u>Sample Output</u>\n",
    "```\n",
    "10:20:30\n",
    "```"
   ]
  },
  {
   "cell_type": "code",
   "execution_count": null,
   "metadata": {},
   "outputs": [],
   "source": []
  },
  {
   "cell_type": "markdown",
   "metadata": {},
   "source": [
    "### Exampe 1 (cotinued)\n",
    "\n",
    "To support validation of initial values, we defined 2 class attributes MAX_HOUR and MAX_MIN_SEC, which has value 24 and 60 respectively.\n",
    "* These class attributes are used during input validation."
   ]
  },
  {
   "cell_type": "code",
   "execution_count": null,
   "metadata": {
    "scrolled": false
   },
   "outputs": [],
   "source": []
  },
  {
   "cell_type": "markdown",
   "metadata": {},
   "source": [
    "### Example 2\n",
    "\n",
    "We can use class attributes to keep a rolling value which is shared among all instances. For example, we would like to keep track of number of Customers and assign each customer a unique serial number.\n",
    "\n",
    "<u>Sample Output</u>\n",
    "```\n",
    "1\n",
    "2\n",
    "3\n",
    "3\n",
    "```"
   ]
  },
  {
   "cell_type": "code",
   "execution_count": 23,
   "metadata": {},
   "outputs": [
    {
     "name": "stdout",
     "output_type": "stream",
     "text": "1\n2\n3 3 3\n"
    }
   ],
   "source": [
    "class Customer:\n",
    "    next_serial=1\n",
    "\n",
    "    def __init__(self):\n",
    "        #type(self) is used here for convenience in case there's a change in \n",
    "        #class name\n",
    "        self.serial=type(self).next_serial\n",
    "        type(self).next_serial=type(self).next_serial+1\n",
    "\n",
    "#Test\n",
    "s1=Customer()\n",
    "s2=Customer()\n",
    "print(s1.serial)\n",
    "print(s2.serial)\n",
    "#Note that that following give 3 for everything because you're modifying \n",
    "#next_serial in the class Customer\n",
    "print(Customer.next_serial, s1.next_serial, s2.next_serial)"
   ]
  },
  {
   "cell_type": "code",
   "execution_count": null,
   "metadata": {},
   "outputs": [],
   "source": [
    "class TIME:\n",
    "\n",
    "    MAX_HOUR = 24\n",
    "    MAX_MIN_SEC = 60\n",
    "\n",
    "    def __init__(self, hour=0, minute=0, second=0):\n",
    "        if hour<0 or hour >= Time.MAX_HOUR:\n",
    "            raise ValueError('Hour must between 0 and 23')\n",
    "        if minute <0 or minute >= Time.MAX_MIN_SEC or second <0 or second >59\n",
    "            raise ValueError('Minute/Second must between 0 and 59')\n",
    "        self.hour=hour\n",
    "        self.minute=minute\n",
    "        self.second=second\n",
    "\n",
    "    def __str__(self):\n",
    "        return '{}:{}:{}'.format(self.hour,self.minute,self.second)\n",
    "\n",
    "\n",
    "try:\n",
    "    t2=Time(25,61,61)\n",
    "except ValueError as e:\n",
    "    print(e)"
   ]
  },
  {
   "cell_type": "markdown",
   "metadata": {},
   "source": [
    "### Instance Attribute vs Class Attribute\n",
    "\n",
    "Instance attributes belong to a particular instance.\n",
    "* Modifying instance attribute of an instance does not affect other instances.\n",
    "\n",
    "Class attributes are shared among all instances. \n",
    "* They can be accessed not only through class but also through an instance. "
   ]
  },
  {
   "cell_type": "markdown",
   "metadata": {},
   "source": [
    "### Modify a Class Attribute\n",
    "Modification to class attribute can only be done with the notation `ClassName.AttributeName`. Otherwise, a new instance variable will be created."
   ]
  },
  {
   "cell_type": "code",
   "execution_count": 25,
   "metadata": {},
   "outputs": [
    {
     "name": "stdout",
     "output_type": "stream",
     "text": "original\nmodified\nTrue\n"
    },
    {
     "data": {
      "text/plain": "'modified'"
     },
     "execution_count": 25,
     "metadata": {},
     "output_type": "execute_result"
    }
   ],
   "source": [
    "class A:\n",
    "    cls_attr = 'original'\n",
    "\n",
    "x=A()\n",
    "print(x.cls_attr)\n",
    "\n",
    "#In the next line, you're changing the class attribute of A\n",
    "A.cls_attr = 'modified'\n",
    "print(x.cls_attr)\n",
    "print(x.cls_attr is A.cls_attr)\n",
    "\n",
    "y=A()\n",
    "y.cls_attr"
   ]
  },
  {
   "cell_type": "markdown",
   "metadata": {},
   "source": [
    "#### Question:\n",
    "\n",
    "In above example, what if you modify `A.cls_attr = \"my value\"` to `x.cls_attr = \"my value\"`?"
   ]
  },
  {
   "cell_type": "markdown",
   "metadata": {},
   "source": [
    "### Mutable vs Immutable (Confusing)\n",
    "\n",
    "Modification to attribute of immutable type will create a new object."
   ]
  },
  {
   "cell_type": "code",
   "execution_count": null,
   "metadata": {},
   "outputs": [],
   "source": []
  },
  {
   "cell_type": "markdown",
   "metadata": {},
   "source": [
    "## 4. Static Methods and Class Methods\n",
    "\n",
    "### Static Methods\n",
    "\n",
    "In Python, all instance methods have `self` as their first argument. \n",
    "\n",
    "Static methods in Python are similar to instance methods, the difference being that a static method is bound to a class rather than the objects for that class.\n",
    "* A static method is a method which does not has `self` as its first argument. \n",
    "* It can be called without an object of that class. \n",
    "* This also means that static methods cannot modify the state of an object as they are not bound to it. \n",
    "\n",
    "Static method are declared using `@staticmethod` decorator. \n",
    "* The `@staticmethod` decorator is optional. But static method without `@staticmethod` decorator cannot be called from its instance.\n",
    "\n",
    "For example, we add a static method in `Time` class to check if a hour is AM or PM. "
   ]
  },
  {
   "cell_type": "code",
   "execution_count": null,
   "metadata": {},
   "outputs": [],
   "source": []
  },
  {
   "cell_type": "markdown",
   "metadata": {},
   "source": [
    "### Class Methods\n",
    "\n",
    "Class methods are much like **static method**. They are methods that are bound to a class rather than its object.\n",
    "\n",
    "The difference between a static method and a class method is:\n",
    "* Static method knows nothing about the class and just deals with the parameters.\n",
    "* Class method works with the class since its parameter is always the class itself.\n",
    "\n",
    "To create a class method, use `@classmethod` decorator.\n",
    "\n",
    "#### Example:\n",
    "\n",
    "To buy a car in Singapore, buyer needs to purchase a Certificate of Entitlement or COE. COEs were divided into several categories.\n",
    "* Cat A: Cars with engine capacity at 1600cc & below, and the engine power should not exceed 97 kilowatts (kW)\n",
    "* Cat B: Cars with engine capacity above 1600cc, or the engine power output exceeds 97 kW \n",
    "\n",
    "Implement a `Car` class with following specifications.\n",
    "* It has 2 instance attributes `engine_capacity` and `category`\n",
    "* Its initializer accepts 1 input to initialize `engine_capacity`\n",
    "* It has a class method `get_category()` which returns category A or B based on parameter engine_capacity value\n",
    "* It also defines a class attribute `MAX_CAT_A_CC` with value 1600."
   ]
  },
  {
   "cell_type": "code",
   "execution_count": 27,
   "metadata": {},
   "outputs": [
    {
     "name": "stdout",
     "output_type": "stream",
     "text": "A\nB\n"
    }
   ],
   "source": [
    "class Car:\n",
    "\n",
    "    @staticmethod\n",
    "    def static_category(engine_capacity,MAX):\n",
    "        if engine_capacity<= MAX:\n",
    "            return 'A'\n",
    "        return 'B'\n",
    "\n",
    "    def __init__(self,engine_capacity):\n",
    "        self.engine_capacity=engine_capacity\n",
    "        #use static method\n",
    "        self.category=Car.static_category(engine_capacity,1600)\n",
    "\n",
    "c1=Car(1000)\n",
    "print(c1.category)\n",
    "c1=Car(1700)\n",
    "print(c1.category)"
   ]
  },
  {
   "cell_type": "code",
   "execution_count": 28,
   "metadata": {},
   "outputs": [],
   "source": [
    "class Car:\n",
    "\n",
    "    MAX_CC=1600\n",
    "\n",
    "    @classmethod\n",
    "    def category(cls,engine_capacity):\n",
    "        if engine_capacity<=cls.MAX_CC:\n",
    "            return 'A'\n",
    "        return 'B'\n",
    "\n",
    "    def __init__(self,engine_capacity):\n",
    "        self.engine_capacity=engine_capacity\n",
    "        #use static method\n",
    "        self.category=Car.category(engine_capacity,1600)"
   ]
  },
  {
   "cell_type": "code",
   "execution_count": 30,
   "metadata": {},
   "outputs": [
    {
     "data": {
      "text/plain": "180.0"
     },
     "execution_count": 30,
     "metadata": {},
     "output_type": "execute_result"
    }
   ],
   "source": [
    "class Converter:\n",
    "\n",
    "    PI=3.1415926\n",
    "\n",
    "    @classmethod\n",
    "    def rad_to_degree(cls,r):\n",
    "        d=r/cls.PI*180\n",
    "        return d\n",
    "\n",
    "Converter.rad_to_degree(3.1415926)"
   ]
  },
  {
   "cell_type": "markdown",
   "metadata": {},
   "source": [
    "## 5. Properties\n",
    "\n",
    "It is common to have **getter** and **setter** methods in the class, which manage access and modification to attributes in the class. \n",
    "\n",
    "#### Example:\n",
    "* In `Person` class, `_name` attribute is marked as \"private\".\n",
    "* For ourside world to access and modify `_name`, the `getName()` and `setName()` methods are provided."
   ]
  },
  {
   "cell_type": "code",
   "execution_count": null,
   "metadata": {},
   "outputs": [],
   "source": []
  },
  {
   "cell_type": "markdown",
   "metadata": {},
   "source": [
    "### Property Decorator\n",
    "\n",
    "Python provides `@property` decorator for getter and setter methods. Property makes getter and setters look like a normal attribute.  \n",
    "* The `@property` decorator marks the getter method\n",
    "* The `@attr.setter` decorator marks the setter method for attribute attr"
   ]
  },
  {
   "cell_type": "code",
   "execution_count": null,
   "metadata": {},
   "outputs": [],
   "source": []
  },
  {
   "cell_type": "markdown",
   "metadata": {},
   "source": [
    "### Read-only Computed Attribute\n",
    "It is common to use @property to implement a read-only computed attribute.\n",
    "\n",
    "#### Exercise:\n",
    "Construct a class `Circle` which has a \"private\" attribute `radius`.\n",
    "* Implement its initializer to initialize `radius` from input\n",
    "* Implement property methods of `radius`\n",
    "* Implement 2 read-only properties which returns area and perimeter"
   ]
  },
  {
   "cell_type": "code",
   "execution_count": null,
   "metadata": {},
   "outputs": [],
   "source": []
  },
  {
   "cell_type": "markdown",
   "metadata": {},
   "source": [
    "## 6. Inheritance\n",
    "\n",
    "Similar to other programming languages, Python allows class inheritance.\n",
    "\n",
    "In following code sample, both class `B` and `C` inherit from class `A`.\n",
    "\n",
    "```python\n",
    "class A:\n",
    "    pass\n",
    "    \n",
    "class B(A):\n",
    "    pass\n",
    "    \n",
    "class C(A):\n",
    "    pass\n",
    "```\n",
    "\n",
    "The special attribute `__base__` returns its 1st base class. To get all base classes, use attribute `__bases__`.\n",
    "\n",
    "We can test whether a class is subclass of one or more classes using `issubclass()` method."
   ]
  },
  {
   "cell_type": "code",
   "execution_count": null,
   "metadata": {},
   "outputs": [],
   "source": []
  },
  {
   "cell_type": "markdown",
   "metadata": {},
   "source": [
    "### Code Reuse\n",
    "\n",
    "A sub-class can be derived from a base-class and inherit its methods and variables. This allows sharing of implementation between classes, which avoids code duplication\n",
    "\n",
    "#### Exercise\n",
    "\n",
    "Study the code in `Teacher` and `Student` classes and perform following:\n",
    "* Abstract common code in `Teacher` and `Student` class to a `Person` class\n",
    "* Modify following two classes to inherit from `Person` class\n",
    "\n",
    "```\n",
    "class Teacher():\n",
    "    def __init__(self, firstName, lastName):\n",
    "        self._firstName = firstName\n",
    "        self._lastName = lastName\n",
    "\n",
    "    @property\n",
    "    def fullname(self):\n",
    "        return self._firstName + ' ' + self._lastName\n",
    "    \n",
    "    def __str__(self):\n",
    "        return '{}: {}'.format(type(self).__name__, self.fullname())\n",
    "    \n",
    "    def work(self):\n",
    "        print(\"{} is working\".format(self.fullname))\n",
    "    \n",
    "class Student():\n",
    "    def __init__(self, firstName, lastName):\n",
    "        self._firstName = firstName\n",
    "        self._lastName = lastName\n",
    "\n",
    "    @property\n",
    "    def fullname(self):\n",
    "        return self._firstName + ' ' + self._lastName\n",
    "\n",
    "    def __str__(self):\n",
    "        return '{}: {}'.format(type(self).__name__, self.fullname)\n",
    "\n",
    "    def study(self):\n",
    "        print(\"{} is studying\".format(self.fullname))\n",
    "\n",
    "```"
   ]
  },
  {
   "cell_type": "code",
   "execution_count": null,
   "metadata": {},
   "outputs": [],
   "source": []
  },
  {
   "cell_type": "markdown",
   "metadata": {},
   "source": [
    "### Method Overriding\n",
    "\n",
    "A subclass may override a method defined in its superclass. \n",
    "\n",
    "#### Example:\n",
    "* Class B doesnot override `hi()` method in class A\n",
    "* Class C overrides `hi()` method in class B"
   ]
  },
  {
   "cell_type": "code",
   "execution_count": null,
   "metadata": {},
   "outputs": [],
   "source": []
  },
  {
   "cell_type": "markdown",
   "metadata": {},
   "source": [
    "### Super Function - super()\n",
    "\n",
    "With inheritance, the super() function allows us to call a method from the parent class."
   ]
  },
  {
   "cell_type": "code",
   "execution_count": null,
   "metadata": {},
   "outputs": [],
   "source": []
  },
  {
   "cell_type": "markdown",
   "metadata": {},
   "source": [
    "## 7. Advanced Inheritance (Optional)"
   ]
  },
  {
   "cell_type": "markdown",
   "metadata": {},
   "source": [
    "### Abstract Method\n",
    "\n",
    "Abstract method is a method without implementation. It defines signature of a method which can be implemented in subclasses.\n",
    "\n",
    "There are 2 common ways of implementing abstract methods. \n",
    "\n",
    "#### Method 1\n",
    "* Raise `NotImplementedError` in the method body. \n",
    "* Subclass still can be instantiated."
   ]
  },
  {
   "cell_type": "code",
   "execution_count": null,
   "metadata": {
    "scrolled": false
   },
   "outputs": [],
   "source": []
  },
  {
   "cell_type": "markdown",
   "metadata": {},
   "source": [
    "#### Method 2\n",
    "\n",
    "* Use `@abstractmethod` decorator from abc (Abstract Base Class) module.\n",
    "* Subclass cannot be instantiated if it does not implement the abstract class."
   ]
  },
  {
   "cell_type": "code",
   "execution_count": null,
   "metadata": {},
   "outputs": [],
   "source": []
  },
  {
   "cell_type": "markdown",
   "metadata": {},
   "source": [
    "### Multiple Inheritance\n",
    "\n",
    "Python supports multiple inheritance, i.e. a class may inherit from multiple base classes.\n",
    "\n",
    "In following code sample, Class `D` inherits from both class `B` and `C`. \n",
    "\n",
    "```python\n",
    "class A:\n",
    "    pass\n",
    "    \n",
    "class B(A):\n",
    "    pass\n",
    "    \n",
    "class C(A):\n",
    "    pass\n",
    "\n",
    "class D(B, C):\n",
    "    pass\n",
    "```"
   ]
  },
  {
   "cell_type": "code",
   "execution_count": null,
   "metadata": {},
   "outputs": [],
   "source": []
  },
  {
   "cell_type": "markdown",
   "metadata": {},
   "source": [
    "### Method Resolution Order\n",
    "\n",
    "When an attribute is invoked in a class, Python will try to search for this attribute in current class and followed by its parent classes. The order of resolution is called **Method Resolution Order** (MRO).\n",
    "\n",
    "Each class has a MRO list, which can be accessed using special attribute `__mro__`.\n"
   ]
  },
  {
   "cell_type": "code",
   "execution_count": null,
   "metadata": {},
   "outputs": [],
   "source": []
  },
  {
   "cell_type": "markdown",
   "metadata": {},
   "source": [
    "## 8. \"Private\" Attribute and Name Mangling (Optional)\n",
    "\n",
    "### Everything is Public\n",
    "\n",
    "All methods and attributes in Python class are pbulic, i.e. they can be accessed by users. \n",
    "* Python has NO access modifier, i.e. `public` & `protected` & `private`, like in C# or Java.\n",
    "* It's a convention to prefix a instance variable with `_` to indicate a method or an attribute is only for internal use. \n",
    "* Such methods and attributes should not be used directly by users of the class. But you can still access them directly, which is useful for debugging purpose.\n",
    "* <b><i>In Python, we are consenting adults.</i></b>\n",
    "\n",
    "### double_leading_and_trailing_underscore\n",
    "\n",
    "Python use this convention for special variables or methods (so-called “magic method”) such as `__eq__()`, `__len__()`. \n",
    "* These methods provides special syntactic features or does special things. \n",
    "* User might modify such special method in rare case. E.g. You customize `__init__()` to initialize an object.\n",
    "* User should not define his own method in such convention.\n",
    "\n",
    "\n",
    "### single-leading-underscore \n",
    "\n",
    "Pyton uses single leading underscores is a **convention** to indicate an attribute is for internal use. For example, user of a class `A` should not be using `A._attr` directly because `_attr` is meant for internal use in class. \n",
    "* This is just a convention which has no effect to Python interpretor\n",
    "\n",
    "**Note:** When a moudle is imported, method and variable with single-leading-underscore will NOT be imported.\n",
    "\n",
    "\n",
    "### double-leading-underscore\n",
    "\n",
    "When a class attribute is named with double-leading-underscore, it invokes **name mangling**.\n",
    "\n",
    "### Name Mangling\n",
    "\n",
    "Python interpretor will prefix name with double-leading-underscore with `_classname`, e.g. `__foo` in class `MyClass` will become `_MyClass__foo`. "
   ]
  },
  {
   "cell_type": "code",
   "execution_count": null,
   "metadata": {},
   "outputs": [],
   "source": []
  },
  {
   "cell_type": "markdown",
   "metadata": {},
   "source": [
    "### Name Mangling - Avoid Attribute Overriden\n",
    "\n",
    "In parent class, some member attributes are tied to the specific implementation in methods of parent class. Such attributes may be accidentally overwrite in subclass.\n",
    "\n",
    "Name Mangling ensures that such attributes will not be overriden by a similar name in its sub-class.\n",
    "\n",
    "#### Example\n",
    "* Case 1: The `_test()` method in class `A` is overriden by `_test()` in class `B`\n",
    "* Case 2: The `__test()` method in class `A` will not be overriden by `__test()` in class `B`"
   ]
  },
  {
   "cell_type": "code",
   "execution_count": null,
   "metadata": {},
   "outputs": [],
   "source": []
  },
  {
   "cell_type": "code",
   "execution_count": null,
   "metadata": {},
   "outputs": [],
   "source": []
  },
  {
   "cell_type": "markdown",
   "metadata": {},
   "source": [
    "## 9. Polymophism (Optional)\n",
    "\n",
    "Polymophism in object-oriented programming means to process objects differently based on their data type. In another word, one method can have different implementations, either in the same class or between different classes.\n",
    "\n",
    "* **Method Overriding:** Same method with different implementations in **derived classes**.  \n",
    "* **Method Overloading:** Same method with different implementations in **same class**."
   ]
  },
  {
   "cell_type": "markdown",
   "metadata": {},
   "source": [
    "### Method Overriding\n",
    "\n",
    "A subclass can override a method in the base class.\n",
    "\n",
    "In following example, class `Pet` can have a method `talk()` and its subclasses `Dog` and `Cat` can make different sounds in their `talk()` method."
   ]
  },
  {
   "cell_type": "code",
   "execution_count": null,
   "metadata": {},
   "outputs": [],
   "source": []
  },
  {
   "cell_type": "markdown",
   "metadata": {},
   "source": [
    "### Method Overloading - NOT AVAILABLE\n",
    "\n",
    "Python doesnot support method overloading. It keeps only the latest definition of the method. \n"
   ]
  },
  {
   "cell_type": "code",
   "execution_count": null,
   "metadata": {},
   "outputs": [],
   "source": []
  },
  {
   "cell_type": "markdown",
   "metadata": {},
   "source": [
    "### Implement Multiple Initializers using Class Method\n",
    "\n",
    "Python doesn't support method overloading. Class methods are used as Factory methods, which is good for implementing alternative initializers. \n",
    "\n",
    "#### Example\n",
    "* Class `Color` has 3 instance attribues `red`, `green` and `blue`. Its `__init__()` initializer takes in 3 arguments to initialize the 3 instance attributes\n",
    "* Implement a class method `from_json()` which accepts a JSON string `'{\"red\":100, \"green\":150, \"blue\":200}'` to create a Color object"
   ]
  },
  {
   "cell_type": "code",
   "execution_count": null,
   "metadata": {},
   "outputs": [],
   "source": []
  }
 ],
 "metadata": {
  "kernelspec": {
   "display_name": "Python 3",
   "language": "python",
   "name": "python3"
  },
  "language_info": {
   "codemirror_mode": {
    "name": "ipython",
    "version": 3
   },
   "file_extension": ".py",
   "mimetype": "text/x-python",
   "name": "python",
   "nbconvert_exporter": "python",
   "pygments_lexer": "ipython3",
   "version": "3.7.4-final"
  }
 },
 "nbformat": 4,
 "nbformat_minor": 2
}