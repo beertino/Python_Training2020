{
 "cells": [
  {
   "cell_type": "markdown",
   "metadata": {},
   "source": [
    "Ministry of Education, Singapore <br>\n",
    "**Computing Teachers’ Content Upgrading Course 2020**\n",
    "\n",
    "<h1><center>Practical Assessment 1</center></h1>\n",
    "\n",
    "<center>26 Feb 2020</center>\n",
    "\n",
    "**Time allowed**: 3 hours\n",
    "\n",
    "<br>\n",
    "<u>Instructions to candidates:</u>\n",
    "\n",
    "1. This is an **open-book** exam.\n",
    "2. Answer all <u><b>five</b></u> questions.\n",
    "3. You may complete your solutions in any IDE first before copying them into this Jupyter Notebook for submission. \n",
    "4. Input validation is not required\n",
    "5. Submit this Jupyter Notebook online before test ends. You may submit multiple times, but only the last submission before test end time will be accepted. [https://driveuploader.com/upload/JDtXaQiUmX/](https://driveuploader.com/upload/JDtXaQiUmX/)\n",
    "6. Please note that the sample test cases may not be enough to test your program. Your programs will be tested with other inputs and they should exhibit the required behaviours to get full credit."
   ]
  },
  {
   "cell_type": "markdown",
   "metadata": {},
   "source": [
    "#### Name & Email\n",
    "\n",
    "* Rename your jupyter notebook to \"YourName\" using menu `File > Rename`\n",
    "* Enter your name and your email address in following cell"
   ]
  },
  {
   "cell_type": "raw",
   "metadata": {},
   "source": [
    "# YOUR NAME\n",
    "# YOUR EMAIL"
   ]
  },
  {
   "cell_type": "markdown",
   "metadata": {},
   "source": [
    "---"
   ]
  },
  {
   "cell_type": "markdown",
   "metadata": {},
   "source": [
    "### Question 1 (4 marks)\n",
    "\n",
    "Implement a function `get_mean_median()` which takes in a list of integers. It returns a tuple containing the mean value followed by the median value of the list. \n",
    "* When the list has an odd number of integers, its median value is the middle value of the sorted list.\n",
    "* When the list has an even number of integers, its median value is average of the middle 2 values.\n",
    "\n",
    "You get an extra bonus mark if your function does not modify the input parameter list."
   ]
  },
  {
   "cell_type": "code",
   "execution_count": 144,
   "metadata": {},
   "outputs": [],
   "source": [
    "# WRITE YOUR CODE HERE\n",
    "def get_mean_median(l):\n",
    "    mean = sum(l)/len(l)\n",
    "    if len(l)%2==1:\n",
    "        median = sorted(l)[int(len(l)/2)]\n",
    "    else :\n",
    "        median = (sorted(l)[int(len(l)/2)]+sorted(l)[int(len(l)/2)-1])/2\n",
    "    return (mean,median)"
   ]
  },
  {
   "cell_type": "markdown",
   "metadata": {},
   "source": [
    "<u>*Test Case 1*</u>\n",
    "\n",
    "Input: `[1, 3]`<br>\n",
    "Expected output: `(2.0, 2.0)`<br>\n",
    "Note that because there is an even number of integers, the median is the average of the middle 2 sorted values, 1 and 3."
   ]
  },
  {
   "cell_type": "code",
   "execution_count": 150,
   "metadata": {},
   "outputs": [
    {
     "data": {
      "text/plain": "(2.0, 2.0)"
     },
     "execution_count": 150,
     "metadata": {},
     "output_type": "execute_result"
    }
   ],
   "source": [
    "s = [1,3]\n",
    "get_mean_median(s)"
   ]
  },
  {
   "cell_type": "markdown",
   "metadata": {},
   "source": [
    "<u>*Test Case 2*</u>\n",
    "\n",
    "Input: `[999, 1, 2]`<br>\n",
    "Expected output: `(334.0, 2)`<br>\n",
    "Note that because there is an odd number of integers, the median is just the middle sorted value, 2."
   ]
  },
  {
   "cell_type": "code",
   "execution_count": 151,
   "metadata": {},
   "outputs": [
    {
     "data": {
      "text/plain": "(334.0, 2)"
     },
     "execution_count": 151,
     "metadata": {},
     "output_type": "execute_result"
    }
   ],
   "source": [
    "s = [999, 1, 2]\n",
    "get_mean_median(s)"
   ]
  },
  {
   "cell_type": "markdown",
   "metadata": {},
   "source": [
    "<u>*Test Case 3*</u>\n",
    "\n",
    "Input: `[8, 6, 4, 5, 18, 7]`<br>\n",
    "Expected output: `(8.0, 6.5)`"
   ]
  },
  {
   "cell_type": "code",
   "execution_count": 152,
   "metadata": {},
   "outputs": [
    {
     "data": {
      "text/plain": "(8.0, 6.5)"
     },
     "execution_count": 152,
     "metadata": {},
     "output_type": "execute_result"
    }
   ],
   "source": [
    "s = [8, 6, 4, 5, 18, 7]\n",
    "get_mean_median(s)"
   ]
  },
  {
   "cell_type": "markdown",
   "metadata": {},
   "source": [
    "### Question 2 (4 marks)\n",
    "\n",
    "Implement a function `count_divisibles(s)` which takes in a list of integers; it counts the number of integers in the list that can be divided by 2, 3 and 5 respectively. \n",
    "\n",
    "The result is returned in a dictionary. For example, `{2: 5, 3: 2, 5: 0}` indicates that 5 numbers can be divided by 2, 2 numbers can be divided by 3, and no numbers can be divided by 5. "
   ]
  },
  {
   "cell_type": "code",
   "execution_count": 153,
   "metadata": {},
   "outputs": [],
   "source": [
    "# WRITE YOUR CODE HERE\n",
    "def count_divisibles(s):\n",
    "    div_by_2=[x for x in s if x%2==0]\n",
    "    div_by_3=[x for x in s if x%3==0]\n",
    "    div_by_5=[x for x in s if x%4==0]\n",
    "    return {2: len(div_by_2), 3:len(div_by_3),5: len(div_by_5)}"
   ]
  },
  {
   "cell_type": "markdown",
   "metadata": {},
   "source": [
    "<u>*Test Case 1*</u>\n",
    "\n",
    "Input: `[1, 2, 3, 4, 5, 6, 7, 8, 9, 10]`<br>\n",
    "Expected output: `{2: 5, 3: 3, 5: 2}`<br>\n",
    "This is because in the list there are 5 integers that can be divided by 2 (`2`, `4`, `6`, `8`, `10`), 3 integers that can be divided by 3 (`3`, `6`, `9`) and 2 integers that can be divided by 5 (`5`, `10`)."
   ]
  },
  {
   "cell_type": "code",
   "execution_count": 154,
   "metadata": {},
   "outputs": [
    {
     "data": {
      "text/plain": "{2: 5, 3: 3, 5: 2}"
     },
     "execution_count": 154,
     "metadata": {},
     "output_type": "execute_result"
    }
   ],
   "source": [
    "count_divisibles([1, 2, 3, 4, 5, 6, 7, 8, 9, 10])"
   ]
  },
  {
   "cell_type": "markdown",
   "metadata": {},
   "source": [
    "<u>*Test Case 2*</u>\n",
    "\n",
    "Input: `[11, 13]`<br>\n",
    "Expected output: `{2: 0, 3: 0, 5: 0}`<br>\n",
    "This is because neither `11` nor `13` are divisible by 2, 3 or 5."
   ]
  },
  {
   "cell_type": "code",
   "execution_count": 155,
   "metadata": {},
   "outputs": [
    {
     "data": {
      "text/plain": "{2: 0, 3: 0, 5: 0}"
     },
     "execution_count": 155,
     "metadata": {},
     "output_type": "execute_result"
    }
   ],
   "source": [
    "count_divisibles([11, 13])"
   ]
  },
  {
   "cell_type": "markdown",
   "metadata": {},
   "source": [
    "### Question 3 (4 marks)\n",
    "\n",
    "Implement a function `string_list()` which takes in a string and returns a list containing its first character, its first 2 characters, its first 3 characters, and so on.\n",
    "\n",
    "<u>Hint:</u> Use string slicing"
   ]
  },
  {
   "cell_type": "code",
   "execution_count": 156,
   "metadata": {},
   "outputs": [],
   "source": [
    "# WRITE YOUR CODE HERE\n",
    "def string_list(s):\n",
    "    return [s[0:i+1] for i in range(len(s))]"
   ]
  },
  {
   "cell_type": "markdown",
   "metadata": {},
   "source": [
    "<u>*Test Case 1*</u>\n",
    "\n",
    "Input: `'ABCD'`<br>\n",
    "Expected output: `['A', 'AB', 'ABC', 'ABCD']`<br>\n",
    "The output is a list of the first character (`A`), the first 2 characters (`AB`), the first 3 characters (`ABC`) and finally the first 4 characters (`ABCD`). It is not possible to get 5 characters from the input, so the list stops there."
   ]
  },
  {
   "cell_type": "code",
   "execution_count": 157,
   "metadata": {},
   "outputs": [
    {
     "data": {
      "text/plain": "['A', 'AB', 'ABC', 'ABCD']"
     },
     "execution_count": 157,
     "metadata": {},
     "output_type": "execute_result"
    }
   ],
   "source": [
    "string_list('ABCD')"
   ]
  },
  {
   "cell_type": "markdown",
   "metadata": {},
   "source": [
    "<u>*Test Case 2*</u>\n",
    "\n",
    "Input: `''`<br>\n",
    "Expected output: `[]`<br>\n",
    "An empty string doesn't even have a \"first character\", so the output is just an empty list."
   ]
  },
  {
   "cell_type": "code",
   "execution_count": 158,
   "metadata": {},
   "outputs": [
    {
     "data": {
      "text/plain": "[]"
     },
     "execution_count": 158,
     "metadata": {},
     "output_type": "execute_result"
    }
   ],
   "source": [
    "string_list('')"
   ]
  },
  {
   "cell_type": "markdown",
   "metadata": {},
   "source": [
    "<u>*Test Case 3*</u>\n",
    "\n",
    "Input: `'Good day'`<br>\n",
    "Expected output: `['G', 'Go', 'Goo', 'Good', 'Good ', 'Good d', 'Good da', 'Good day']`"
   ]
  },
  {
   "cell_type": "code",
   "execution_count": 159,
   "metadata": {},
   "outputs": [
    {
     "data": {
      "text/plain": "['G', 'Go', 'Goo', 'Good', 'Good ', 'Good d', 'Good da', 'Good day']"
     },
     "execution_count": 159,
     "metadata": {},
     "output_type": "execute_result"
    }
   ],
   "source": [
    "string_list('Good day')"
   ]
  },
  {
   "cell_type": "markdown",
   "metadata": {},
   "source": [
    "### Question 4 (4 marks)\n",
    "\n",
    "The Singapore NRIC number is made up of 7 digits and a letter behind it, known as the check digit. This letter is calculated from the first 7 digits using the modulus eleven method.\n",
    "\n",
    "The steps involved to obtain the check digit is:\n",
    "* **Step 1:** Multiply each digit in the NRIC number by its respective weight `[2, 7, 6, 5, 4, 3, 2]`;\n",
    "* **Step 2:** Sum up above products;\n",
    "* **Step 3:** Divide the sum by 11 and get its remainder;\n",
    "* **Step 4:** Subtract the remainder from 11 to get the result;\n",
    "* **Step 5:** Obtain the letter from the result where `1 = 'A', 2 = 'B', 3 = 'C', 4 = 'D', 5 = 'E', 6 = 'F', 7 = 'G', 8 = 'H', 9 = 'I', 10 = 'Z', 11 = 'J'`\n",
    "\n",
    "Implement a function `get_check_letter()` which takes in a string of 7 digits, and returns a letter as the check digit using the above method.\n",
    "* Return `'Invalid'` if input is invalid"
   ]
  },
  {
   "cell_type": "code",
   "execution_count": 37,
   "metadata": {},
   "outputs": [],
   "source": [
    "# THE FOLLOWING DICTIONARY IS PROVIDED FOR YOUR CONVENIENCE.\n",
    "LETTERS = {\n",
    "    1: 'A', 2: 'B', 3: 'C', 4: 'D', 5: 'E', \n",
    "    6: 'F', 7: 'G', 8: 'H', 9: 'I', 10: 'Z', 11: 'J'\n",
    "}\n",
    "\n",
    "# WRITE YOUR CODE HERE\n",
    "weight=[2, 7, 6, 5, 4, 3, 2]\n",
    "\n",
    "def get_check_letter(s):\n",
    "    try:\n",
    "        return LETTERS[11-sum([int(s[i])*weight[i] for i in range(7)])%11]\n",
    "    except:\n",
    "        return 'Invalid'\n"
   ]
  },
  {
   "cell_type": "markdown",
   "metadata": {},
   "source": [
    "<u>*Test Case 1*</u>\n",
    "\n",
    "Input: `'1234567'`<br>\n",
    "Expected output: `'D'`\n",
    "$$\n",
    "\\begin{aligned}\n",
    "\\textbf{Steps 1 and 2:} \\quad & 2(1) + 7(2) + 6(3) + 5(4) + 4(5) + 3(6) + 2(7) = 106 \\\\\n",
    "\\textbf{Step 3:} \\quad & 106 \\div 11 \\text{ gives remainder } 7 \\\\\n",
    "\\textbf{Step 4:} \\quad & 11 - 7 = 4 \\\\\n",
    "\\textbf{Step 5:} \\quad & 4 = D \\\\\n",
    "\\end{aligned}\n",
    "$$"
   ]
  },
  {
   "cell_type": "code",
   "execution_count": 160,
   "metadata": {},
   "outputs": [
    {
     "data": {
      "text/plain": "'D'"
     },
     "execution_count": 160,
     "metadata": {},
     "output_type": "execute_result"
    }
   ],
   "source": [
    "get_check_letter('1234567')"
   ]
  },
  {
   "cell_type": "markdown",
   "metadata": {},
   "source": [
    "<u>*Test Case 2*</u>\n",
    "\n",
    "Input: `'123abc'`<br>\n",
    "Expected output: `'Invalid'`"
   ]
  },
  {
   "cell_type": "code",
   "execution_count": 161,
   "metadata": {},
   "outputs": [
    {
     "data": {
      "text/plain": "'Invalid'"
     },
     "execution_count": 161,
     "metadata": {},
     "output_type": "execute_result"
    }
   ],
   "source": [
    "get_check_letter('123abc')"
   ]
  },
  {
   "cell_type": "markdown",
   "metadata": {},
   "source": [
    "### Question 5 (4 marks)\n",
    "\n",
    "Up to 5 integers are contained in a list structure. The structure may contain any combination of nested lists as shown in following examples.\n",
    "\n",
    "* `[1,2,3,4,5]`\n",
    "* `[4,[1],[[3,99],5]]`\n",
    "* `[[[3,2,1],6],5]`\n",
    "\n",
    "Implement a <u>recursive</u> function `sum_flexi(s)` which returns the sum of all integers in `s`, where `s` is a nested list structure containing integer values.\n",
    "\n",
    "<u>Non-recursive</u> functions will also be accepted but with a <u>2 marks</u> penalty."
   ]
  },
  {
   "cell_type": "code",
   "execution_count": 140,
   "metadata": {},
   "outputs": [],
   "source": [
    "# WRITE YOUR CODE HERE\n",
    "def sum_flexi(s,cumul=0):\n",
    "    while True in [type(x)==list for x in s]:\n",
    "        for x in s:\n",
    "            if type(x)!=int:\n",
    "                s.remove(x)\n",
    "                s.extend(x)\n",
    "    return sum(s)\n",
    "\n",
    "def sum_flexi_two(s):\n",
    "    if \n",
    "        if type(x)!=int:\n",
    "            x="
   ]
  },
  {
   "cell_type": "markdown",
   "metadata": {},
   "source": [
    "<u>*Test Case 1*</u>\n",
    "\n",
    "Input: `[4,[1],[[3,99],5]]`<br>\n",
    "Expected output: `112`"
   ]
  },
  {
   "cell_type": "code",
   "execution_count": 141,
   "metadata": {},
   "outputs": [
    {
     "data": {
      "text/plain": "112"
     },
     "execution_count": 141,
     "metadata": {},
     "output_type": "execute_result"
    }
   ],
   "source": [
    "s = [4,[1],[[3,99],5]]\n",
    "sum_flexi(s)"
   ]
  },
  {
   "cell_type": "markdown",
   "metadata": {},
   "source": [
    "<u>*Test Case 2*</u>\n",
    "\n",
    "Input: `[1,2,3,4,5]`<br>\n",
    "Expected output: `15`"
   ]
  },
  {
   "cell_type": "code",
   "execution_count": 142,
   "metadata": {},
   "outputs": [
    {
     "data": {
      "text/plain": "15"
     },
     "execution_count": 142,
     "metadata": {},
     "output_type": "execute_result"
    }
   ],
   "source": [
    "s = [1,2,3,4,5]\n",
    "sum_flexi(s)"
   ]
  },
  {
   "cell_type": "markdown",
   "metadata": {},
   "source": [
    "<u>*Test Case 3*</u>\n",
    "\n",
    "Input: `[[[3,2,1],6],5]`<br>\n",
    "Expected output: `17`"
   ]
  },
  {
   "cell_type": "code",
   "execution_count": 143,
   "metadata": {},
   "outputs": [
    {
     "data": {
      "text/plain": "17"
     },
     "execution_count": 143,
     "metadata": {},
     "output_type": "execute_result"
    }
   ],
   "source": [
    "s = [[[3,2,1],6],5]\n",
    "sum_flexi(s)"
   ]
  }
 ],
 "metadata": {
  "kernelspec": {
   "display_name": "Python 3",
   "language": "python",
   "name": "python3"
  },
  "language_info": {
   "codemirror_mode": {
    "name": "ipython",
    "version": 3
   },
   "file_extension": ".py",
   "mimetype": "text/x-python",
   "name": "python",
   "nbconvert_exporter": "python",
   "pygments_lexer": "ipython3",
   "version": "3.7.4-final"
  }
 },
 "nbformat": 4,
 "nbformat_minor": 2
}