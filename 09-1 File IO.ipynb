{
 "cells": [
  {
   "cell_type": "markdown",
   "metadata": {},
   "source": [
    "# File IO\n",
    "\n",
    "You will learn about Python file operations. More specifically, opening a file, reading from it, writing into it, closing it and various file methods."
   ]
  },
  {
   "cell_type": "markdown",
   "metadata": {},
   "source": [
    "#### Write a Cell to File in Jupytor Notebook\n",
    "\n",
    "Jupyter Notebook provides a magic function `%%file` to export the content in a cell to a file.\n",
    "* <u>Note:</u> Any magic function staring with `%%` must be at first line of the cell, and it is applied to all lines below it. "
   ]
  },
  {
   "cell_type": "markdown",
   "metadata": {},
   "source": [
    "**Try Code:**\n",
    "\n",
    "Create a file `quote.txt` by running following code.\n",
    "\n",
    "```\n",
    "%%file 'quote.txt'\n",
    "Give a man a program, frustrate him for a day.\n",
    "Teach a man to program, frustrate him for a lifetime.\n",
    "```"
   ]
  },
  {
   "cell_type": "code",
   "execution_count": 1,
   "metadata": {},
   "outputs": [
    {
     "name": "stdout",
     "output_type": "stream",
     "text": "Writing quote.txt\n"
    }
   ],
   "source": [
    "#Double %-sign is for the cell, single % is for the line, e.g. %timeit\n",
    "%%file 'quote.txt'\n",
    "Give a man a program, frustrate him for a day.\n",
    "Teach a man to program, frustrate him for a lifetime."
   ]
  },
  {
   "cell_type": "code",
   "execution_count": 5,
   "metadata": {},
   "outputs": [],
   "source": [
    "#Launching a notepad. \n",
    "!notepad quote.txt"
   ]
  },
  {
   "cell_type": "markdown",
   "metadata": {},
   "source": [
    "## 1. Introduction\n",
    "\n",
    "### What is File?\n",
    "\n",
    "File is a named location on disk to store related information. \n",
    "* It uses non-volatile memory, e.g. hard disk, to store data permanently.\n",
    "\n",
    "A file operation takes place in following order:\n",
    "* Open a file\n",
    "* Read or Write (perform operations)\n",
    "* Close the file\n",
    "\n",
    "A file can be **text** or **binary** format."
   ]
  },
  {
   "cell_type": "markdown",
   "metadata": {},
   "source": [
    "### Open File\n",
    "\n",
    "Python has a built-in function `open(file_path)` to open a file. \n",
    "* The `open()` function returns a file object, also called a file handler, as it is used to read or modify the file accordingly.\n",
    "\n",
    "To read data from a file object, use its `read()` method.\n",
    "\n",
    "To close a file object, uses its `close()` method."
   ]
  },
  {
   "cell_type": "markdown",
   "metadata": {},
   "source": [
    "**Exercise:**\n",
    "\n",
    "Read and print out content in file `quote.txt`, which is created in previous step."
   ]
  },
  {
   "cell_type": "code",
   "execution_count": 6,
   "metadata": {},
   "outputs": [
    {
     "name": "stdout",
     "output_type": "stream",
     "text": "Give a man a program, frustrate him for a day.\nTeach a man to program, frustrate him for a lifetime.\n\n"
    }
   ],
   "source": [
    "f= open('quote.txt')\n",
    "s= f.read()\n",
    "# Inserting s=f.read() here again will return empty string\n",
    "# as the scanner is at the end of the text file\n",
    "\n",
    "# The method f.seek(0) returns the pointer of the scanner \n",
    "# to the first position of the text file\n",
    "\n",
    "f.seek(0)\n",
    "s=f.read()\n",
    "print(s)\n",
    "f.close()"
   ]
  },
  {
   "cell_type": "markdown",
   "metadata": {},
   "source": [
    "**Question:**\n",
    "\n",
    "What is the object type of a file handler, e.g. object `f`?"
   ]
  },
  {
   "cell_type": "code",
   "execution_count": null,
   "metadata": {},
   "outputs": [],
   "source": []
  },
  {
   "cell_type": "markdown",
   "metadata": {},
   "source": [
    "**Question:**\n",
    "\n",
    "What will be the returned value of `read()` function when the function is called second time?"
   ]
  },
  {
   "cell_type": "code",
   "execution_count": null,
   "metadata": {},
   "outputs": [],
   "source": []
  },
  {
   "cell_type": "markdown",
   "metadata": {},
   "source": [
    "#### Filepath\n",
    "The `filepath` can be a relative or absolute path. \n",
    "* If only file name is specified, Python assume the file is in the same folder as current Python kernel\n",
    "* When specifying full path, use `/` instead of `\\`, which is used as escape character in string"
   ]
  },
  {
   "cell_type": "code",
   "execution_count": 13,
   "metadata": {},
   "outputs": [
    {
     "name": "stdout",
     "output_type": "stream",
     "text": "c:\\Users\\beert\\OneDrive\\Documents\\Python_Training2020\\Python_Training2020\n<class 'str'>\nc:\\Users\\beert\\OneDrive\\Documents\\Python_Training2020\\Python_Training2020\\output\\quote.txt\n"
    },
    {
     "data": {
      "text/plain": "False"
     },
     "execution_count": 13,
     "metadata": {},
     "output_type": "execute_result"
    }
   ],
   "source": [
    "import os\n",
    "folder = os.path.abspath('')\n",
    "print(folder)\n",
    "\n",
    "#The following code is just to generate the string representation to the path \n",
    "file = os.path.join(folder,'quote.txt')\n",
    "print(type(file))\n",
    "file = os.path.join(folder,'output','quote.txt')\n",
    "print(file)\n",
    "\n",
    "os.path.exists(file)"
   ]
  },
  {
   "cell_type": "markdown",
   "metadata": {},
   "source": [
    "**Question:** \n",
    "\n",
    "What if I foget to close the file?  \n"
   ]
  },
  {
   "cell_type": "raw",
   "metadata": {},
   "source": []
  },
  {
   "cell_type": "markdown",
   "metadata": {},
   "source": [
    "1) text gets flushed from buffer to the file when the file is closed. so content might not be written when the file is not closed."
   ]
  },
  {
   "cell_type": "markdown",
   "metadata": {},
   "source": [
    "## 2. Context Manager (Optional)\n",
    "\n",
    "### What is Context Manger?\n",
    "\n",
    "Programming commonly involves usage of resources, e.g. file operations, network and database connections etc. It's important to release these resources after usage because they may be limited in supply.\n",
    "* **Context manager** is a mechanism in Python for the automatic setup and teardown of resources.\n",
    "* When an object (function or class) is implemented as a Context Manager, it can be used by **`with`** operator. \n",
    "\n",
    "The file `open()` method is implemented as a Context Manager.\n",
    "* With context manager, `f.close()` will be automatically called when `with` code block exits.\n",
    "* You can use `f.closed` attribute to check if a file object is closed."
   ]
  },
  {
   "cell_type": "markdown",
   "metadata": {},
   "source": [
    "**Try Code:**\n",
    "\n",
    "Use `with` code block to read and print out the content of file `quote.txt`.\n",
    "\n",
    "```python\n",
    "with open('quote.txt') as f:\n",
    "    print(f.read())\n",
    "\n",
    "# check if the file is closed\n",
    "print(f.closed)\n",
    "```"
   ]
  },
  {
   "cell_type": "code",
   "execution_count": 14,
   "metadata": {},
   "outputs": [
    {
     "name": "stdout",
     "output_type": "stream",
     "text": "Give a man a program, frustrate him for a day.\nTeach a man to program, frustrate him for a lifetime.\n\nTrue\n"
    }
   ],
   "source": [
    "#You are kinda creating a separate workspace in your script\n",
    "with open('quote.txt') as f:\n",
    "    print(f.read())\n",
    "\n",
    "# check if the file is closed\n",
    "print(f.closed)"
   ]
  },
  {
   "cell_type": "markdown",
   "metadata": {},
   "source": [
    "### Custom Context Manager\n",
    "\n",
    "You can make your function to work with context manager using decorator `@contextmanager`, which is from built-in module `contextlib`.\n",
    "* Add `@contextmanager` decorator to the function\n",
    "* Add `yield` statement to a position in the function\n",
    "* Statements before `yield` will be run before the `with` code block \n",
    "* Statements after `yield` will be run after the `with` code block"
   ]
  },
  {
   "cell_type": "markdown",
   "metadata": {},
   "source": [
    "**Exercise:**\n",
    "\n",
    "Imagine you would like to have a meal in harker center. You need to reserve a seat first before your meal. You also need to return the seat after your meal.\n",
    "\n",
    "Define a function `chope_seat()` which implements context manager. It will \n",
    "* Reserve a seat by printing `Chope a seat...` before `with` code block exection\n",
    "* Release the seat by printing `Give up the seat...` after `with` code block execution\n",
    "\n",
    "<u>Sample Output:</u>\n",
    "```\n",
    "Chope a seat...\n",
    "Enjoy my meal\n",
    "Give up the seat...\n",
    "```"
   ]
  },
  {
   "cell_type": "code",
   "execution_count": null,
   "metadata": {},
   "outputs": [],
   "source": [
    "from contextlib import contextmanager\n",
    "\n",
    "@contextmanager\n",
    "def chope_seat():\n",
    "    print('Chope a seat...')\n",
    "    # the commands before yield sets up the environment, beginning template\n",
    "    # have meal\n",
    "    yield # pauses the function, and executes the code block implemented inside ' with chop_seat()' below\n",
    "    # the commands before yield do the closing up template\n",
    "    print('Give up the seat...')"
   ]
  },
  {
   "cell_type": "code",
   "execution_count": null,
   "metadata": {},
   "outputs": [],
   "source": [
    "with chope_seat():\n",
    "    print('Enjoy my meal')"
   ]
  },
  {
   "cell_type": "markdown",
   "metadata": {},
   "source": [
    "### Custom Context Manager with Return Object\n",
    "\n",
    "The `yield` function can return an object to the `with` statement\n",
    "\n",
    "\n",
    "**Try Code:**\n",
    "\n",
    "Following function `my_open()` is mimicking the `open()` function. It is implemented using `@contextmanager` decorator.\n",
    "\n",
    "```python\n",
    "from contextlib import contextmanager\n",
    "\n",
    "@contextmanager\n",
    "def my_open(filename, mode):\n",
    "    print('openning')\n",
    "    f = open(filename, mode)\n",
    "    yield f\n",
    "    print('closing')\n",
    "    f.close()\n",
    "    \n",
    "with my_open('test.txt', 'w') as f:\n",
    "    print('using file')\n",
    "    f.write('Test context manager')\n",
    "```"
   ]
  },
  {
   "cell_type": "code",
   "execution_count": null,
   "metadata": {},
   "outputs": [],
   "source": [
    "from contextlib import contextmanager\n",
    "\n",
    "@contextmanager\n",
    "def my_open(filename, mode):\n",
    "    print('openning')\n",
    "    f1 = open(filename, mode)\n",
    "    yield f1 #f1 is passed to the with as f\n",
    "    print('closing')\n",
    "    f1.close()\n",
    "    \n",
    "with my_open('test.txt', 'w') as f: #yielding of multiple variables is allowed as well\n",
    "    print('using file')\n",
    "    f.write('Test context manager') #f is passed back as f1"
   ]
  },
  {
   "cell_type": "markdown",
   "metadata": {},
   "source": [
    "## 3. Operation Mode\n",
    "\n",
    "You can specify the mode used to open a file by applying a second argument to the open function.\n",
    "* `r`/`w`/`a`: Are you reading, writing or appending a file?\n",
    "* `t`/`b`: Is it a text or binary file?\n",
    "\n",
    "```python\n",
    "f = open(filepath, mode)\n",
    "```\n",
    "\n",
    "### Read / Write / Append\n",
    "The `mode` specifies how you want to work with the file.\n",
    "* `'r'`: read mode, which is the default. \n",
    "* `'w'`: write mode, for overwriting the contents of a file. Existing file content will be lost.\n",
    "* `'a'`: append mode, for appending new content to the end of the file. Existing content in the file will not be lost."
   ]
  },
  {
   "cell_type": "markdown",
   "metadata": {},
   "source": [
    "**Exercise:**\n",
    "\n",
    "Complete following operations using `with` code block:\n",
    "* Write `\"Alexa, \"` to a file `test.txt`. This operator will overwrite any content in the file.\n",
    "* Append `\"Good morning!\\n\"` to the file `test.txt`.\n",
    "* Append `\"What time is it?\"` to the file `test.txt`.\n",
    "* Read and print out content from the file `test.txt`."
   ]
  },
  {
   "cell_type": "code",
   "execution_count": 34,
   "metadata": {},
   "outputs": [],
   "source": [
    "#The following will initialize the text file as an empty text\n",
    "#as the whole empty space is flushed into the file\n",
    "with open('test.txt','w'):\n",
    "    pass\n",
    "\n",
    "!notepad test.txt"
   ]
  },
  {
   "cell_type": "code",
   "execution_count": 39,
   "metadata": {},
   "outputs": [
    {
     "name": "stdout",
     "output_type": "stream",
     "text": "Good morning!\nWhat time is it?\n"
    }
   ],
   "source": [
    "f=open('test.txt','a')\n",
    "f.write('Good morning!\\n')\n",
    "f.write('What time is it?')\n",
    "f.close()\n",
    "f=open('test.txt','r')\n",
    "#read() comes with the open(_,'r') pair. the modes 'a' and 'w' will not work\n",
    "s=f.read()\n",
    "print(s)\n",
    "!notepad test.txt\n",
    "\n",
    "\n",
    "\n"
   ]
  },
  {
   "cell_type": "code",
   "execution_count": 47,
   "metadata": {},
   "outputs": [
    {
     "name": "stdout",
     "output_type": "stream",
     "text": "Alexa, Good morning!\nWhat time is it?\n"
    }
   ],
   "source": [
    "with open('test.txt','w') as f:\n",
    "    f.write('Alexa, Good morning!\\n')\n",
    "    f.write('What time is it?')\n",
    "\n",
    "with open('test.txt') as f:\n",
    "    s=f.read()\n",
    "    print(s)"
   ]
  },
  {
   "cell_type": "markdown",
   "metadata": {},
   "source": [
    "### Read by Characters\n",
    "\n",
    "The `read()` method also accepts an argument which specifies the number of character to read.\n",
    "* Without this argument, it will read till EOF.\n",
    "\n",
    "Check out the documentation of of `read()`.\n",
    "\n",
    "```\n",
    "f.read?\n",
    "```"
   ]
  },
  {
   "cell_type": "code",
   "execution_count": 45,
   "metadata": {},
   "outputs": [
    {
     "name": "stdout",
     "output_type": "stream",
     "text": "Help on built-in function read:\n\nread(size=-1, /) method of _io.TextIOWrapper instance\n    Read at most n characters from stream.\n    \n    Read from underlying buffer until we have n characters or we hit EOF.\n    If n is negative or omitted, read until EOF.\n\n"
    }
   ],
   "source": [
    "help(f.read)"
   ]
  },
  {
   "cell_type": "markdown",
   "metadata": {},
   "source": [
    "**Try Code:**\n",
    "\n",
    "```python\n",
    "with open('test.txt', 'r') as f:\n",
    "    print(repr(f.read(10)))\n",
    "    print(repr(f.read(10)))\n",
    "    print(repr(f.read()))\n",
    "```\n",
    "\n",
    "The `repr()` function will represent special characters as symbols in a string. It helps to print string unambigously. repr() gives the CANONICAL REPRESENTATION of the string.\n"
   ]
  },
  {
   "cell_type": "code",
   "execution_count": 49,
   "metadata": {},
   "outputs": [
    {
     "name": "stdout",
     "output_type": "stream",
     "text": "'Alexa, Goo'\n'd morning!'\n'\\nWhat time is it?'\nAlexa, Goo\nd morning!\n\nWhat time is it?\n"
    }
   ],
   "source": [
    "with open('test.txt', 'r') as f:\n",
    "    print(repr(f.read(10)))\n",
    "    print(repr(f.read(10)))\n",
    "    print(repr(f.read()))\n",
    "\n",
    "#Compare the above with the one without repr()\n",
    "\n",
    "with open('test.txt', 'r') as f:\n",
    "    print(f.read(10))\n",
    "    print(f.read(10))\n",
    "    print(f.read())"
   ]
  },
  {
   "cell_type": "code",
   "execution_count": 50,
   "metadata": {},
   "outputs": [
    {
     "name": "stdout",
     "output_type": "stream",
     "text": "abc\ndef\nghij\n'abc\\ndef\\nghij'\n"
    }
   ],
   "source": [
    "s = 'abc\\ndef\\nghij'\n",
    "print(s)\n",
    "print(repr(s))"
   ]
  },
  {
   "cell_type": "markdown",
   "metadata": {},
   "source": [
    "### Write a String\n",
    "The `write()` method returns number of characters written to the file.\n",
    "* <u>Note:</u> It counts special characters too.\n",
    "\n",
    "**Try Code:**\n",
    "```python\n",
    "s = \"Alexa\\tGood morning!\\nWhat time is it?\"\n",
    "print(len(s))\n",
    "with open(\"test.txt\", \"w\") as f:\n",
    "    x = f.write(s)\n",
    "    print(x)\n",
    "```"
   ]
  },
  {
   "cell_type": "code",
   "execution_count": null,
   "metadata": {},
   "outputs": [],
   "source": []
  },
  {
   "cell_type": "markdown",
   "metadata": {},
   "source": [
    "Open the file `test.txt` and examine text inside it. All special characters are handled properly.\n",
    "\n",
    "**Try Code:**\n",
    "```bash\n",
    "!notepad test.txt\n",
    "```"
   ]
  },
  {
   "cell_type": "code",
   "execution_count": null,
   "metadata": {},
   "outputs": [],
   "source": []
  },
  {
   "cell_type": "markdown",
   "metadata": {},
   "source": [
    "**Question:**\n",
    "* What happens if you open a non-existing file in `read` mode?\n",
    "* What happens if you open a non-existing file in `write` mode?\n",
    "* What happens if you open a non-existing file in `append` mode?\n",
    "* What happens if you open an existing file with mode `write` and close immediately?"
   ]
  },
  {
   "cell_type": "code",
   "execution_count": 56,
   "metadata": {},
   "outputs": [
    {
     "name": "stdout",
     "output_type": "stream",
     "text": "['Alexa, Good morning!', 'What time is it?']\n"
    }
   ],
   "source": [
    "with open('test.txt') as f:\n",
    "    s=[x.strip('\\n') for x in f.readlines()]\n",
    "    print(s)"
   ]
  },
  {
   "cell_type": "code",
   "execution_count": null,
   "metadata": {},
   "outputs": [],
   "source": []
  },
  {
   "cell_type": "raw",
   "metadata": {},
   "source": []
  },
  {
   "cell_type": "markdown",
   "metadata": {},
   "source": [
    "### Read by Lines"
   ]
  },
  {
   "cell_type": "markdown",
   "metadata": {},
   "source": [
    "Compared to `read()` function, which return all content in a single string, the `readlines()` function returns a list, where each item contains a line.\n",
    "\n",
    "**NOTE:** No character is removed, e.g. new line character `\\n` at the end of a line.\n",
    "\n",
    "**Try Code:**\n",
    "\n",
    "```python\n",
    "with open('test.txt') as f:\n",
    "    s = f.read()\n",
    "    print(repr(s))\n",
    "\n",
    "with open('test.txt', 'r') as f:\n",
    "    s = f.readlines()\n",
    "    print(s)\n",
    "```\n"
   ]
  },
  {
   "cell_type": "code",
   "execution_count": null,
   "metadata": {
    "scrolled": false
   },
   "outputs": [],
   "source": []
  },
  {
   "cell_type": "markdown",
   "metadata": {},
   "source": [
    "In fact, file object can be passed directly to `for-loop`, which will iterate through the file line by line.\n",
    "\n",
    "**Try Code:**\n",
    "\n",
    "```python\n",
    "f = open('test.txt')\n",
    "\n",
    "for i in f:\n",
    "    print(i)\n",
    "```"
   ]
  },
  {
   "cell_type": "code",
   "execution_count": 51,
   "metadata": {},
   "outputs": [
    {
     "name": "stderr",
     "output_type": "stream",
     "text": "'ls' is not recognized as an internal or external command,\noperable program or batch file.\n"
    }
   ],
   "source": [
    "f = open('test.txt')\n",
    "\n",
    "for i in f:\n",
    "    print(i)\n",
    "\n",
    "#Note that file is NOT automatically closed\n",
    "f.close()"
   ]
  },
  {
   "cell_type": "markdown",
   "metadata": {},
   "source": [
    "#### Question:\n",
    "* Why above there is an empty line between `'Alexa\tGood morning!'` and `'What time is it?'`?\n",
    "* How to remove trailing `\\n` from each line?"
   ]
  },
  {
   "cell_type": "code",
   "execution_count": null,
   "metadata": {},
   "outputs": [],
   "source": [
    "with open('test.txt') as f:\n",
    "    s = f.readlines()\n",
    "    s = [r.strip() for r in s]\n",
    "    print(s)"
   ]
  },
  {
   "cell_type": "raw",
   "metadata": {},
   "source": []
  },
  {
   "cell_type": "markdown",
   "metadata": {},
   "source": [
    "### Write Multiple Lines\n",
    "\n",
    "To write a list of stirngs to a file, method `writelines()` can be used.\n",
    "\n",
    "**NOTE:** No character, e.g. `\\n`, will be added or removed.\n",
    "\n",
    "**Try Code:**\n",
    "\n",
    "```python\n",
    "s = ['Hello', 'World', '\\nfrom', '\\nSingapore']\n",
    "with open('test.txt', 'w') as f:\n",
    "    f.writelines(s)\n",
    "```\n",
    "\n",
    "Use `!notepad test.txt` to examine the content in the file."
   ]
  },
  {
   "cell_type": "code",
   "execution_count": 58,
   "metadata": {},
   "outputs": [],
   "source": [
    "s = ['Hello', 'World', '\\nfrom', '\\nSingapore']\n",
    "with open('test.txt', 'w') as f:\n",
    "    #note that writelines() is a scammy function name\n",
    "    #as it basically just write everything as a line\n",
    "    f.writelines(s)\n",
    "\n",
    "!notepad test.txt"
   ]
  },
  {
   "cell_type": "code",
   "execution_count": null,
   "metadata": {},
   "outputs": [],
   "source": []
  },
  {
   "cell_type": "markdown",
   "metadata": {},
   "source": [
    "### Hybrid Mode (Optional)\n",
    "\n",
    "When a file is opened with mode `r`, it only supports read operation. Likewise, if a file is open with `w`, it only supports write operation.\n",
    "\n",
    "Following mode supports both read and write. But it is **not recommended** because you may need to use f.seek() to move cursor to correct position between read and write operation.\n",
    "* `'r+'`:  Open for reading and writing. Cause exception if file does not exists.\n",
    "* `'w+'`:  Open for reading and writing. The file is created if it does not exist, otherwise it is truncated.\n",
    "* `'a+'`:  Open for reading and appending. The file is created if it does not exist."
   ]
  },
  {
   "cell_type": "markdown",
   "metadata": {},
   "source": [
    "## 4. Text File / Binary File\n",
    "\n",
    "By default, `open()` assumes the file is a **text** file. To work with **binary** files, e.g. images and sound files, adding `\"b\"` to the `mode`.\n",
    "* Use `rb` to read a binary file\n",
    "* Use `wb` to write binary content to a file\n",
    "\n",
    "**Excercise:**\n",
    "\n",
    "Write code to copy an image file `test.jpg` in `./images/` folder to current folder with name `dup.jpg`."
   ]
  },
  {
   "cell_type": "code",
   "execution_count": 62,
   "metadata": {},
   "outputs": [
    {
     "name": "stdout",
     "output_type": "stream",
     "text": "33998\n"
    }
   ],
   "source": [
    "file_path = './images/test.jpg'\n",
    "\n",
    "with open(file_path, 'rb') as f:\n",
    "    s=f.read()\n",
    "    print(len(s))\n",
    "\n",
    "with open('dup.jpg','wb') as f:\n",
    "    f.write(s)"
   ]
  },
  {
   "cell_type": "markdown",
   "metadata": {},
   "source": [
    "## 5. Basic CSV File Processing\n",
    "\n",
    "Comma-Separated Values (CSV) is a common text file format to store tabular data.\n",
    "* It has simple structure where each row contains one record\n",
    "* A record may have multiple attributes delimited by common `,`\n",
    "\n",
    "Sample CSV data:\n",
    "```csv\n",
    "Name,Email,Phone Number,Address\n",
    "Bob Smith,bob@example.com,123-456-7890,123 Fake Street\n",
    "Mike Jones,mike@example.com,098-765-4321,321 Fake Avenue\n",
    "```"
   ]
  },
  {
   "cell_type": "markdown",
   "metadata": {},
   "source": [
    "### Read File into List\n",
    "\n",
    "* Read the csv file using `readlines()` method, which returns data in a list.\n",
    "* Use list slicing to remove header row\n",
    "* Use `strip()` method to remove any surrounding white spaces (space, tab, new line characters)\n",
    "\n",
    "\n",
    "**Exercise:**\n",
    "* Read `sample-sales-data.csv` file into a list.\n",
    "* Discard header row\n",
    "* Strip any leading & trailing white space from each line\n",
    "* Print out first 3 items of the list"
   ]
  },
  {
   "cell_type": "code",
   "execution_count": 68,
   "metadata": {},
   "outputs": [
    {
     "name": "stdout",
     "output_type": "stream",
     "text": "['2015-01-21', 'Streeplex', 'Hardware', '11'] ['2015-01-09', 'Streeplex', 'Service', 'abc'] ['2015-01-06', 'Initech', 'Hardware', '-17']\n"
    }
   ],
   "source": [
    "with open('sample-sales-data.csv') as f:\n",
    "    s=f.readlines()[1:]\n",
    "    s=[r.strip() for r in s]\n",
    "    s=[r.split(',') for r in s]\n",
    "    print(*s[0:3])"
   ]
  },
  {
   "cell_type": "markdown",
   "metadata": {},
   "source": [
    "### Split a Record into a Tuple\n",
    "\n",
    "Each a row in csv file is a record. The record is delimited by `comma (,)`.\n",
    "* Use `split(delimiter)` method to split the record into a list or a tuple.\n",
    "* Use multi-level indexing to get a cell value\n",
    "\n",
    "**Exercise:**\n",
    "* Read the file into a list such that each record is represented as a tuple\n",
    "* Print out first 2 records in the list\n",
    "* Print out company name of 1st record"
   ]
  },
  {
   "cell_type": "code",
   "execution_count": null,
   "metadata": {
    "scrolled": false
   },
   "outputs": [],
   "source": []
  }
 ],
 "metadata": {
  "kernelspec": {
   "display_name": "Python 3",
   "language": "python",
   "name": "python3"
  },
  "language_info": {
   "codemirror_mode": {
    "name": "ipython",
    "version": 3
   },
   "file_extension": ".py",
   "mimetype": "text/x-python",
   "name": "python",
   "nbconvert_exporter": "python",
   "pygments_lexer": "ipython3",
   "version": "3.7.4-final"
  }
 },
 "nbformat": 4,
 "nbformat_minor": 2
}