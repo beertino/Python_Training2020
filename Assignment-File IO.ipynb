{
 "cells": [
  {
   "cell_type": "markdown",
   "metadata": {},
   "source": [
    "# Assignment - Files & CSV"
   ]
  },
  {
   "cell_type": "markdown",
   "metadata": {},
   "source": [
    "## 1. \n",
    "\n",
    "Write following list `s` into a text file `q1.txt` with each item occupying 1 line. \n",
    "\n",
    "```python\n",
    "s = [chr(i) + '.txt' for i in range(ord('A'), ord('F'))]\n",
    "```\n",
    "\n",
    "Use following command to open `q1.txt` to verify the content in the file.\n",
    "\n",
    "```bash\n",
    "!notepad q1.txt\n",
    "```"
   ]
  },
  {
   "cell_type": "code",
   "execution_count": 1,
   "metadata": {},
   "outputs": [],
   "source": [
    "with open('q1.txt','w') as f:\n",
    "    s = [chr(i) + '.txt' for i in range(ord('A'), ord('F'))]\n",
    "    for x in s:\n",
    "        f.write(x+'\\n')\n",
    "\n",
    "!notepad q1.txt"
   ]
  },
  {
   "cell_type": "markdown",
   "metadata": {},
   "source": [
    "## 2. \n",
    "\n",
    "For each line of text in `q1.txt`, generate an empty text file and name the file using that line of text. If file already exists, remove it before generate new file. \n",
    "\n",
    "Use following code to check if a file exists.\n",
    "\n",
    "```python\n",
    "import os\n",
    "if os.path.exists(file_path): pass\n",
    "```\n",
    "\n",
    "Use following command to confirm that you have generated all files.\n",
    "\n",
    "```bash\n",
    "!ls *.txt\n",
    "```"
   ]
  },
  {
   "cell_type": "code",
   "execution_count": 8,
   "metadata": {},
   "outputs": [
    {
     "name": "stdout",
     "output_type": "stream",
     "text": "Volume in drive C is Local Disk\n Volume Serial Number is 1C0F-166C\n\n Directory of c:\\Users\\beert\\OneDrive\\Documents\\Python_Training2020\\Python_Training2020\n\n04/03/2020  10:45 AM                 0 A.txt\n04/03/2020  10:45 AM                 0 B.txt\n04/03/2020  10:45 AM                 0 C.txt\n04/03/2020  10:45 AM                 0 D.txt\n04/03/2020  10:45 AM                 0 E.txt\n04/03/2020  10:25 AM                35 q1.txt\n04/03/2020  08:56 AM               103 quote.txt\n04/03/2020  10:21 AM                38 test.txt\n               8 File(s)            176 bytes\n               0 Dir(s)  70,345,469,952 bytes free\n"
    }
   ],
   "source": [
    "#import os\n",
    "#if os.path.exists(file_path): pass\n",
    "\n",
    "with open('q1.txt','r') as f:\n",
    "    n=f.readlines()\n",
    "    for x in n:\n",
    "       with open(x.strip('\\n'),'w') as f1:\n",
    "           pass \n",
    "\n",
    "!dir *.txt"
   ]
  },
  {
   "cell_type": "code",
   "execution_count": 3,
   "metadata": {},
   "outputs": [
    {
     "ename": "ValueError",
     "evalue": "I/O operation on closed file.",
     "output_type": "error",
     "traceback": [
      "\u001b[1;31m---------------------------------------------------------------------------\u001b[0m",
      "\u001b[1;31mValueError\u001b[0m                                Traceback (most recent call last)",
      "\u001b[1;32m<ipython-input-3-dcdf6efd0a6a>\u001b[0m in \u001b[0;36m<module>\u001b[1;34m\u001b[0m\n\u001b[1;32m----> 1\u001b[1;33m \u001b[0mhelp\u001b[0m\u001b[1;33m(\u001b[0m\u001b[0mf\u001b[0m\u001b[1;33m.\u001b[0m\u001b[0mreadlines\u001b[0m\u001b[1;33m(\u001b[0m\u001b[1;33m)\u001b[0m\u001b[1;33m)\u001b[0m\u001b[1;33m\u001b[0m\u001b[1;33m\u001b[0m\u001b[0m\n\u001b[0m",
      "\u001b[1;31mValueError\u001b[0m: I/O operation on closed file."
     ]
    }
   ],
   "source": [
    "help(f.readlines())"
   ]
  },
  {
   "cell_type": "code",
   "execution_count": null,
   "metadata": {},
   "outputs": [],
   "source": []
  }
 ],
 "metadata": {
  "kernelspec": {
   "display_name": "Python 3",
   "language": "python",
   "name": "python3"
  },
  "language_info": {
   "codemirror_mode": {
    "name": "ipython",
    "version": 3
   },
   "file_extension": ".py",
   "mimetype": "text/x-python",
   "name": "python",
   "nbconvert_exporter": "python",
   "pygments_lexer": "ipython3",
   "version": "3.7.4-final"
  }
 },
 "nbformat": 4,
 "nbformat_minor": 2
}