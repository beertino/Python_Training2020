{
 "nbformat": 4,
 "nbformat_minor": 2,
 "metadata": {
  "language_info": {
   "name": "python",
   "codemirror_mode": {
    "name": "ipython",
    "version": 3
   },
   "version": "3.7.4-final"
  },
  "orig_nbformat": 2,
  "file_extension": ".py",
  "mimetype": "text/x-python",
  "name": "python",
  "npconvert_exporter": "python",
  "pygments_lexer": "ipython3",
  "version": 3,
  "kernelspec": {
   "name": "python37464bitbasecondae802c8b5a0d74528aa1d856311a88e21",
   "display_name": "Python 3.7.4 64-bit ('base': conda)"
  }
 },
 "cells": [
  {
   "cell_type": "code",
   "execution_count": 6,
   "metadata": {},
   "outputs": [],
   "source": [
    "import csv\n",
    "\n",
    "with open('Bb Clarinet.csv') as f:\n",
    "    reader = csv.reader(f)\n",
    "    header = next(reader)\n",
    "    data = [r for r in reader]\n",
    "    "
   ]
  },
  {
   "cell_type": "code",
   "execution_count": 9,
   "metadata": {},
   "outputs": [
    {
     "name": "stdout",
     "output_type": "stream",
     "text": "['Artists Academy (S) Pte. Ltd.', 'Yamaha\\nYCL255\\nIndonesia\\n$758\\n|\\nBuffet Crampon\\nBC2501-2-0 (E11)\\nGermany\\n$1,300\\n', 'Yamaha\\nYCL650\\nJapan\\n$2,050\\n|\\nYamaha\\nYCL650E\\nJapan\\n$2,150\\n\\n']\n"
    }
   ],
   "source": [
    "print(data[2])"
   ]
  },
  {
   "cell_type": "code",
   "execution_count": 78,
   "metadata": {},
   "outputs": [
    {
     "name": "stdout",
     "output_type": "stream",
     "text": "Items,Bb CLARINET \nItems,Bb CLARINET \nAllegro-Brio,\nAllegro-Brio,\nArtists Academy (S) Pte. Ltd.,Yamaha YCL255 Indonesia ,758 \nArtists Academy (S) Pte. Ltd., Buffet Crampon BC2501-2-0 (E11) Germany ,1,300 \nArtists Academy (S) Pte. Ltd.,Yamaha YCL650 Japan ,2,050 \nArtists Academy (S) Pte. Ltd., Yamaha YCL650E Japan ,2,150  \nAccent Musical Equipment Pte Ltd,Yamaha YCL450 III Japan ,1,420 \nAccent Musical Equipment Pte Ltd, F. Arthur Uebel Etude Germany ,1,000 \nAccent Musical Equipment Pte Ltd, F. Arthur Uebel Classic Germany ,1,598    \nAccent Musical Equipment Pte Ltd,Yamaha YCL-CSVR Japan ,3,840 \nAccent Musical Equipment Pte Ltd, F. Arthur Uebel Advantage Germany ,2,990 \nAccent Musical Equipment Pte Ltd, F. Arthur Uebel Classic-L Germany ,1,798 \nBand Concept Music Pte. Ltd.,Jupiter JCL750SQ Taiwan ,1,220 \nBand Concept Music Pte. Ltd.,Jupiter JCL 1100S Taiwan ,2,188\nBlessing Music & Education Pte. Ltd.,Jupiter JCL750SQ Taiwan ,1,220 \nBlessing Music & Education Pte. Ltd.,Yamaha YCL SEVR Japan ,3,770 \nMusic Elements (Asia) Pte Ltd,\nMusic Elements (Asia) Pte Ltd,\nMusic360 Pte Ltd,John Packer JP321 UK  (Produced in China) ,1,150    \nMusic360 Pte Ltd,Backun Protege  Canada ,3,200 \nMusic360 Pte Ltd, Backun Beta Canada ,1,980  \nMusicgear Pte. Ltd.,Yamaha YCL-450M Japan ,1,450 \nMusicgear Pte. Ltd., Jupiter JCL-1100S Taiwan  (Made in China) ,1,390    \nMusicgear Pte. Ltd.,Buffet Crampon R13 (BC1131) France ,3,990 \nMusicgear Pte. Ltd., Selmer Paris Seles Presence France ,3,290 \nMusicgear Pte. Ltd., Yamaha YCL-SEVR-E Japan ,3,690  \nSwee Lee Holdings Pte Ltd,Selmer CL-211 USA  (produce in Taiwan) ,1,199 \nSwee Lee Holdings Pte Ltd, Leblanc L255SE USA  ,1,514  \nSwee Lee Holdings Pte Ltd,   \nThe Band World,Buffet Crampon E12F (BC2512F-2-0GB) France (Made in Germany) ,1,498 \nThe Band World, Buffet Crampon Prodige (BC2541-2-0GB) France  (Assemble in China) ,855\nThe Band World,Buffet Crampon  RC (BC1114-2-0) (YB try to get 3) France ,3,999 \nThe Band World, Buffet Crampon  E13 (BC1102-2-0) France ,2,500  \nYamaha Music (Asia) Pte Ltd,Yamaha  YCL450E Japan ,1,400   \nYamaha Music (Asia) Pte Ltd,Yamaha YCL-CX Japan ,2,600 \nYamaha Music (Asia) Pte Ltd, Yamaha YCL-CXE Japan ,2,780\n"
    }
   ],
   "source": [
    "import collections\n",
    "\n",
    "def flatten(l):\n",
    "    for el in l:\n",
    "        if isinstance(el, collections.Iterable) and not isinstance(el, (str, bytes)):\n",
    "            yield from flatten(el)\n",
    "        else:\n",
    "            yield el\n",
    "\n",
    "for j in data:\n",
    "    a=[]\n",
    "    for x in j:\n",
    "        a.append(x.replace('\\n',' '))\n",
    "\n",
    "    b=[]\n",
    "    for ele in a:\n",
    "        b.append(ele.split('|'))\n",
    "\n",
    "    lel=list(flatten(b))\n",
    "    for i in lel[1:]:\n",
    "        print(lel[0]+','+','.join(i.split('$')))"
   ]
  },
  {
   "cell_type": "code",
   "execution_count": 47,
   "metadata": {},
   "outputs": [
    {
     "name": "stdout",
     "output_type": "stream",
     "text": "Artists Academy (S) Pte. Ltd.\nYamaha\nYCL255\nIndonesia\n$758\n|\nBuffet Crampon\nBC2501-2-0 (E11)\nGermany\n$1,300\n\nYamaha\nYCL650\nJapan\n$2,050\n|\nYamaha\nYCL650E\nJapan\n$2,150\n\n\n"
    }
   ],
   "source": [
    "data[2]\n",
    "\n",
    "a=[]\n",
    "for x in data[2]:\n",
    "    x.replace('\\n',' ').replace('\\$',',').strip()\n",
    "    print(x)\n",
    "    a.append(x)\n",
    "\n",
    "c=[]\n",
    "for b in a:\n",
    "    c.append(b.split('|'))\n",
    "\n",
    "d=[]\n",
    "for e in c:\n",
    "    d.append"
   ]
  },
  {
   "cell_type": "code",
   "execution_count": 39,
   "metadata": {},
   "outputs": [
    {
     "name": "stdout",
     "output_type": "stream",
     "text": "[['Artists Academy (S) Pte. Ltd.'], ['Yamaha YCL255 Indonesia $758 ', ' Buffet Crampon BC2501-2-0 (E11) Germany $1,300'], ['Yamaha YCL650 Japan $2,050 ', ' Yamaha YCL650E Japan $2,150']]\n"
    }
   ],
   "source": [
    "print(c)"
   ]
  },
  {
   "cell_type": "code",
   "execution_count": 48,
   "metadata": {},
   "outputs": [
    {
     "data": {
      "text/plain": "'n 2'"
     },
     "execution_count": 48,
     "metadata": {},
     "output_type": "execute_result"
    }
   ],
   "source": [
    "'n$2'.replace('$',' ')"
   ]
  },
  {
   "cell_type": "code",
   "execution_count": null,
   "metadata": {},
   "outputs": [],
   "source": []
  }
 ]
}