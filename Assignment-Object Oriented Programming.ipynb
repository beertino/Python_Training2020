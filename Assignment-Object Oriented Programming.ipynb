{
 "cells": [
  {
   "cell_type": "markdown",
   "metadata": {},
   "source": [
    "# Object Oriented Programming - Assignment"
   ]
  },
  {
   "cell_type": "markdown",
   "metadata": {},
   "source": [
    "## 1. Basic Class\n",
    "\n",
    "\n",
    "### 1.1 Class `Point`\n",
    "Create a Python class `Point` which contains 2 attributes, `x` and `y`, representing x and y coordinate of the point. \n",
    "* Implement initializer method which initialize `x` and `y`.\n",
    "* Implement a instance method `dist_to_origin()` which return distance from origin using formular `math.sqrt(x**2 + y**2)`. \n",
    "* Implement `__str__()` which returns \"(x,y)\", e.g. \"(3.0,4.0)\"\n",
    "\n",
    "#### Sample Output\n",
    "```\n",
    "(3.0, 4.0)\n",
    "Point(3.0,4.0)\n",
    "5.0\n",
    "```"
   ]
  },
  {
   "cell_type": "code",
   "execution_count": 48,
   "metadata": {},
   "outputs": [],
   "source": [
    "import math\n",
    "\n",
    "class Point:\n",
    "    def __init__(self,x,y):\n",
    "        self.x=x\n",
    "        self.y=y\n",
    "    \n",
    "    def dist_to_origin(self):\n",
    "        return math.sqrt(self.x**2+self.y**2)\n",
    "\n",
    "    def __str__(self):\n",
    "        return 'Point({},{})'.format(self.x,self.y)\n"
   ]
  },
  {
   "cell_type": "code",
   "execution_count": 49,
   "metadata": {},
   "outputs": [
    {
     "name": "stdout",
     "output_type": "stream",
     "text": "<class '__main__.Point'>\n5.0\nPoint(3.0,4.0)\n"
    }
   ],
   "source": [
    "p = Point(3.0,4.0)\n",
    "print(type(p))\n",
    "print(p.dist_to_origin())\n",
    "print(p.__str__())"
   ]
  },
  {
   "cell_type": "markdown",
   "metadata": {},
   "source": [
    "## 1.2 Class `Rectangle`\n",
    "Create a Python class `Rectangle` which contains 3 attributes, `width`, `height` and `corner`. The `corner` is of `Point` type, which gives coordinate of bottom left corner of the rectangle.\n",
    "* Implement initializer method which initialize `width`, `height` and `corner`. \n",
    "* Implement a instance method `get_centre()` which returns a `Point` boject representing centre point of the rectance.\n",
    "* Implement a instance method `scale(val)` which scale width and height by `val` times. \n",
    "\n",
    "#### Sample Output\n",
    "```\n",
    "(7.0, 12.0)\n",
    "Rectangle(20, 40) at point (2.0, 2.0)\n",
    "\n",
    "```"
   ]
  },
  {
   "cell_type": "code",
   "execution_count": 50,
   "metadata": {},
   "outputs": [],
   "source": [
    "import math\n",
    "\n",
    "class Point:\n",
    "    def __init__(self,x,y):\n",
    "        self.x=x\n",
    "        self.y=y\n",
    "    \n",
    "    def dist_to_origin(self):\n",
    "        return math.sqrt(self.x**2+self.y**2)\n",
    "\n",
    "    def __str__(self):\n",
    "        return '({},{})'.format(self.x,self.y)\n",
    "\n",
    "class Rectangle:\n",
    "    def __init__(self,width,height,corner):\n",
    "        self.width=width\n",
    "        self.height=height\n",
    "        self.corner=corner\n",
    "    \n",
    "    def get_centre(self):\n",
    "        return Point(self.corner.x+self.width/2,self.corner.y+self.height/2)\n",
    "\n",
    "    def scale(self,val):\n",
    "        self.width  =   self.width*val\n",
    "        self.height =   self.height*val"
   ]
  },
  {
   "cell_type": "code",
   "execution_count": 51,
   "metadata": {},
   "outputs": [
    {
     "name": "stdout",
     "output_type": "stream",
     "text": "(7.0,12.0)\nRectangle(30, 60) at Point(2,2)\n"
    }
   ],
   "source": [
    "p=Point(2,2)\n",
    "r=Rectangle(10,20,p)\n",
    "print(r.get_centre())\n",
    "r.scale(3)\n",
    "print('Rectangle({}, {}) at Point{}'.format(r.width,r.height,r.corner))"
   ]
  },
  {
   "cell_type": "markdown",
   "metadata": {},
   "source": [
    "## 2. Class Attribute, Static Method and Class Method"
   ]
  },
  {
   "cell_type": "markdown",
   "metadata": {},
   "source": [
    "### 2.1 Class Attribute\n",
    "\n",
    "Implement a class attribute `counter` which keep track of number of instance created for class `Machine`.\n",
    "* The `counter` has inital value of 0\n",
    "* In `__init__(self)` method, increment counter by 1\n",
    "* In `__del__(self)` method, decrement counter by 1\n",
    "\n",
    "#### Sample Output\n",
    "```\n",
    "2\n",
    "1\n",
    "```"
   ]
  },
  {
   "cell_type": "code",
   "execution_count": 98,
   "metadata": {},
   "outputs": [],
   "source": [
    "class Machine:\n",
    "\n",
    "    counter=0\n",
    "\n",
    "    def __init__(self):\n",
    "        Machine.counter=Machine.counter+1\n",
    "        print('Creating', id(self))\n",
    "    \n",
    "    def __del__(self):\n",
    "        Machine.counter=Machine.counter-1\n",
    "        print('Deleting',id(self))"
   ]
  },
  {
   "cell_type": "code",
   "execution_count": 101,
   "metadata": {},
   "outputs": [
    {
     "name": "stdout",
     "output_type": "stream",
     "text": "Creating 3060737500424\nDeleting 3060736145224\nCreating 3060739475912\n"
    },
    {
     "ename": "TypeError",
     "evalue": "'int' object is not callable",
     "output_type": "error",
     "traceback": [
      "\u001b[1;31m---------------------------------------------------------------------------\u001b[0m",
      "\u001b[1;31mTypeError\u001b[0m                                 Traceback (most recent call last)",
      "\u001b[1;32m<ipython-input-101-889f2205c6f7>\u001b[0m in \u001b[0;36m<module>\u001b[1;34m\u001b[0m\n\u001b[0;32m      1\u001b[0m \u001b[0mm\u001b[0m\u001b[1;33m=\u001b[0m\u001b[0mMachine\u001b[0m\u001b[1;33m(\u001b[0m\u001b[1;33m)\u001b[0m\u001b[1;33m\u001b[0m\u001b[1;33m\u001b[0m\u001b[0m\n\u001b[0;32m      2\u001b[0m \u001b[0mm2\u001b[0m\u001b[1;33m=\u001b[0m\u001b[0mMachine\u001b[0m\u001b[1;33m(\u001b[0m\u001b[1;33m)\u001b[0m\u001b[1;33m\u001b[0m\u001b[1;33m\u001b[0m\u001b[0m\n\u001b[1;32m----> 3\u001b[1;33m \u001b[0mprint\u001b[0m\u001b[1;33m(\u001b[0m\u001b[0mMachine\u001b[0m\u001b[1;33m.\u001b[0m\u001b[0mcounter\u001b[0m\u001b[1;33m(\u001b[0m\u001b[1;33m)\u001b[0m\u001b[1;33m)\u001b[0m\u001b[1;33m\u001b[0m\u001b[1;33m\u001b[0m\u001b[0m\n\u001b[0m\u001b[0;32m      4\u001b[0m \u001b[1;32mdel\u001b[0m\u001b[1;33m(\u001b[0m\u001b[0mm2\u001b[0m\u001b[1;33m)\u001b[0m\u001b[1;33m\u001b[0m\u001b[1;33m\u001b[0m\u001b[0m\n\u001b[0;32m      5\u001b[0m \u001b[0mprint\u001b[0m\u001b[1;33m(\u001b[0m\u001b[0mMachine\u001b[0m\u001b[1;33m.\u001b[0m\u001b[0mcounter\u001b[0m\u001b[1;33m)\u001b[0m\u001b[1;33m\u001b[0m\u001b[1;33m\u001b[0m\u001b[0m\n",
      "\u001b[1;31mTypeError\u001b[0m: 'int' object is not callable"
     ]
    }
   ],
   "source": [
    "m=Machine()\n",
    "m2=Machine()\n",
    "print(Machine.counter())\n",
    "del(m2)\n",
    "print(Machine.counter)\n"
   ]
  },
  {
   "cell_type": "markdown",
   "metadata": {},
   "source": [
    "### 2.2 Class Method\n",
    "\n",
    "Implement a class method `get_serial()` in the `Customer` class which returns __next_serial value and increase the __next_serial by 1. \n",
    "\n",
    "```\n",
    "class Customer:\n",
    "\n",
    "    __next_serial = 1\n",
    "    \n",
    "    def __init__(self):\n",
    "        self.serial = Customer.__next_serial\n",
    "        Customer.__next_serial += 1\n",
    "```\n",
    "\n",
    "#### Sample Output\n",
    "```\n",
    "1\n",
    "2\n",
    "```"
   ]
  },
  {
   "cell_type": "code",
   "execution_count": 103,
   "metadata": {},
   "outputs": [
    {
     "name": "stdout",
     "output_type": "stream",
     "text": "1\n2\n"
    }
   ],
   "source": [
    "class Customer:\n",
    "\n",
    "    _next_serial = 1\n",
    "\n",
    "    @classmethod\n",
    "    def get_serial(cls):\n",
    "        current=Customer._next_serial\n",
    "        Customer._next_serial=Customer._next_serial+1\n",
    "        return current\n",
    "    \n",
    "    def __init__(self):\n",
    "        self.serial = Customer.get_serial()\n",
    "\n",
    "c1=Customer()\n",
    "c2=Customer()\n",
    "print(c1.serial)\n",
    "print(c2.serial)"
   ]
  },
  {
   "cell_type": "markdown",
   "metadata": {},
   "source": [
    "### 2.2 Static Method\n",
    "\n",
    "Implement following 2 static method in the `Temperature` class which convert value between celsius and fahrenheit.\n",
    "* `c2f()` which takes in a value in celsius and return a value in fahrenheit\n",
    "* `f2c()` which takes in a value in fahrenheit and return a value in celsius\n",
    "\n",
    "#### Sample Output\n",
    "```\n",
    "86.0\n",
    "30.0\n",
    "```"
   ]
  },
  {
   "cell_type": "code",
   "execution_count": null,
   "metadata": {},
   "outputs": [],
   "source": [
    "class Temperature:\n",
    "\n",
    "    @staticmethod #main difference of static method vs instance method is the first parameter 'self' in instance method\n",
    "    def c2f(temp):\n",
    "        return 9*temp/5+32\n",
    "\n",
    "    @staticmethod\n",
    "    def f2c(temp): \n",
    "        return (temp-32)/9*5\n",
    "\n",
    "    def __init__(self,temp,deg):\n",
    "        self.temp=temp\n",
    "        self.deg=deg"
   ]
  },
  {
   "cell_type": "markdown",
   "metadata": {},
   "source": [
    "### 2.3 Multiple Initializer using Class Method (Optional)\n",
    "\n",
    "Modify class `Book` to add a class method `from_json()` to create an instance from JSON string\n",
    "\n",
    "```\n",
    "class Book:\n",
    "    \n",
    "    def __init__(self, title, author):\n",
    "        self.title = title\n",
    "        self.author = author\n",
    "    \n",
    "    def __str__(self):\n",
    "        return '({},{})'.format(self.title, self.author)\n",
    "        \n",
    "    ## define class method here\n",
    "\n",
    "\n",
    "## Test\n",
    "c1 = Book('Rich Dad Poor Dad', 'Robert Kiyosaki')\n",
    "c2 = Book.from_json('{\"title\":\"Rich Dad Poor Dad\", \"author\":\"Robert Kiyosaki\"}')\n",
    "print(c1)\n",
    "print(c2)\n",
    "```\n",
    "\n",
    "#### Sample Output\n",
    "```\n",
    "(Rich Dad Poor Dad,Robert Kiyosaki)\n",
    "(Rich Dad Poor Dad,Robert Kiyosaki)\n",
    "```"
   ]
  },
  {
   "cell_type": "code",
   "execution_count": 90,
   "metadata": {},
   "outputs": [],
   "source": [
    "class Book:\n",
    "    \n",
    "    def __init__(self, title, author):\n",
    "        self.title = title\n",
    "        self.author = author\n",
    "    \n",
    "    def __str__(self):\n",
    "        return '({},{})'.format(self.title, self.author)\n",
    "        \n",
    "    ## define class method here\n",
    "    @classmethod\n",
    "    def from_json(cls,js):\n",
    "        t = dict(js)['title']\n",
    "        a = dict(js)['author']\n",
    "        return Book(t,a)"
   ]
  },
  {
   "cell_type": "code",
   "execution_count": 91,
   "metadata": {},
   "outputs": [
    {
     "ename": "ValueError",
     "evalue": "dictionary update sequence element #0 has length 1; 2 is required",
     "output_type": "error",
     "traceback": [
      "\u001b[1;31m---------------------------------------------------------------------------\u001b[0m",
      "\u001b[1;31mValueError\u001b[0m                                Traceback (most recent call last)",
      "\u001b[1;32m<ipython-input-91-176b110eeb67>\u001b[0m in \u001b[0;36m<module>\u001b[1;34m\u001b[0m\n\u001b[0;32m      1\u001b[0m \u001b[1;31m## Test\u001b[0m\u001b[1;33m\u001b[0m\u001b[1;33m\u001b[0m\u001b[1;33m\u001b[0m\u001b[0m\n\u001b[0;32m      2\u001b[0m \u001b[0mc1\u001b[0m \u001b[1;33m=\u001b[0m \u001b[0mBook\u001b[0m\u001b[1;33m(\u001b[0m\u001b[1;34m'Rich Dad Poor Dad'\u001b[0m\u001b[1;33m,\u001b[0m \u001b[1;34m'Robert Kiyosaki'\u001b[0m\u001b[1;33m)\u001b[0m\u001b[1;33m\u001b[0m\u001b[1;33m\u001b[0m\u001b[0m\n\u001b[1;32m----> 3\u001b[1;33m \u001b[0mc2\u001b[0m \u001b[1;33m=\u001b[0m \u001b[0mBook\u001b[0m\u001b[1;33m.\u001b[0m\u001b[0mfrom_json\u001b[0m\u001b[1;33m(\u001b[0m\u001b[1;34m'{\"title\":\"Rich Dad Poor Dad\", \"author\":\"Robert Kiyosaki\"}'\u001b[0m\u001b[1;33m)\u001b[0m\u001b[1;33m\u001b[0m\u001b[1;33m\u001b[0m\u001b[0m\n\u001b[0m\u001b[0;32m      4\u001b[0m \u001b[0mprint\u001b[0m\u001b[1;33m(\u001b[0m\u001b[0mc1\u001b[0m\u001b[1;33m)\u001b[0m\u001b[1;33m\u001b[0m\u001b[1;33m\u001b[0m\u001b[0m\n\u001b[0;32m      5\u001b[0m \u001b[1;31m#print(c2)\u001b[0m\u001b[1;33m\u001b[0m\u001b[1;33m\u001b[0m\u001b[1;33m\u001b[0m\u001b[0m\n",
      "\u001b[1;32m<ipython-input-90-0c3a5763cc48>\u001b[0m in \u001b[0;36mfrom_json\u001b[1;34m(cls, js)\u001b[0m\n\u001b[0;32m     11\u001b[0m     \u001b[1;33m@\u001b[0m\u001b[0mclassmethod\u001b[0m\u001b[1;33m\u001b[0m\u001b[1;33m\u001b[0m\u001b[0m\n\u001b[0;32m     12\u001b[0m     \u001b[1;32mdef\u001b[0m \u001b[0mfrom_json\u001b[0m\u001b[1;33m(\u001b[0m\u001b[0mcls\u001b[0m\u001b[1;33m,\u001b[0m\u001b[0mjs\u001b[0m\u001b[1;33m)\u001b[0m\u001b[1;33m:\u001b[0m\u001b[1;33m\u001b[0m\u001b[1;33m\u001b[0m\u001b[0m\n\u001b[1;32m---> 13\u001b[1;33m         \u001b[0mt\u001b[0m \u001b[1;33m=\u001b[0m \u001b[0mdict\u001b[0m\u001b[1;33m(\u001b[0m\u001b[0mjs\u001b[0m\u001b[1;33m)\u001b[0m\u001b[1;33m[\u001b[0m\u001b[1;34m'title'\u001b[0m\u001b[1;33m]\u001b[0m\u001b[1;33m\u001b[0m\u001b[1;33m\u001b[0m\u001b[0m\n\u001b[0m\u001b[0;32m     14\u001b[0m         \u001b[0ma\u001b[0m \u001b[1;33m=\u001b[0m \u001b[0mdict\u001b[0m\u001b[1;33m(\u001b[0m\u001b[0mjs\u001b[0m\u001b[1;33m)\u001b[0m\u001b[1;33m[\u001b[0m\u001b[1;34m'author'\u001b[0m\u001b[1;33m]\u001b[0m\u001b[1;33m\u001b[0m\u001b[1;33m\u001b[0m\u001b[0m\n\u001b[0;32m     15\u001b[0m         \u001b[1;32mreturn\u001b[0m \u001b[0mBook\u001b[0m\u001b[1;33m(\u001b[0m\u001b[0mt\u001b[0m\u001b[1;33m,\u001b[0m\u001b[0ma\u001b[0m\u001b[1;33m)\u001b[0m\u001b[1;33m\u001b[0m\u001b[1;33m\u001b[0m\u001b[0m\n",
      "\u001b[1;31mValueError\u001b[0m: dictionary update sequence element #0 has length 1; 2 is required"
     ]
    }
   ],
   "source": [
    "## Test\n",
    "c1 = Book('Rich Dad Poor Dad', 'Robert Kiyosaki')\n",
    "c2 = Book.from_json('{\"title\":\"Rich Dad Poor Dad\", \"author\":\"Robert Kiyosaki\"}')\n",
    "print(c1)\n",
    "#print(c2)"
   ]
  },
  {
   "cell_type": "code",
   "execution_count": 78,
   "metadata": {},
   "outputs": [
    {
     "data": {
      "text/plain": "'Rich Dad Poor Dad'"
     },
     "execution_count": 78,
     "metadata": {},
     "output_type": "execute_result"
    }
   ],
   "source": [
    "s=dict({\"title\":\"Rich Dad Poor Dad\", \"author\":\"Robert Kiyosaki\"})\n",
    "s['title']"
   ]
  },
  {
   "cell_type": "markdown",
   "metadata": {},
   "source": [
    "## 3. Properties\n",
    "\n",
    "Implement a class `Person` which has 2 attributes, `firstName`, `lastName`.\n",
    "* Use python convention to make both attributes \"private\"\n",
    "* Implement an initializer which initialize both attributes \n",
    "* Implement both attributes as properties\n",
    "* Implement another property `fullname` which returns \"firstName lastName\"\n",
    "\n",
    "#### Sample Output\n",
    "```\n",
    "Alan Goh\n",
    "Alan Goh\n",
    "```"
   ]
  },
  {
   "cell_type": "code",
   "execution_count": null,
   "metadata": {},
   "outputs": [],
   "source": []
  },
  {
   "cell_type": "markdown",
   "metadata": {},
   "source": [
    "## 4. Inheritance\n",
    "\n",
    "* Construct a class `Shape` with 2 abstract property `area` and `perimeter`\n",
    "* Construct a subclass `Rectangle` from class `Shape`. Its initializer takes in 2 attributes `width` and `height`. It implements both abstract properties.\n",
    "* Construct a subclass `Circle` from class `Shape`. Its initializer takes in 1 attribute `radius`. It implements both abstract properties.\n",
    "\n",
    "#### Sample Output\n",
    "```\n",
    "200 60\n",
    "314.1592653589793 62.83185307179586\n",
    "```"
   ]
  },
  {
   "cell_type": "code",
   "execution_count": null,
   "metadata": {},
   "outputs": [],
   "source": []
  }
 ],
 "metadata": {
  "kernelspec": {
   "display_name": "Python 3",
   "language": "python",
   "name": "python3"
  },
  "language_info": {
   "codemirror_mode": {
    "name": "ipython",
    "version": 3
   },
   "file_extension": ".py",
   "mimetype": "text/x-python",
   "name": "python",
   "nbconvert_exporter": "python",
   "pygments_lexer": "ipython3",
   "version": "3.7.4-final"
  }
 },
 "nbformat": 4,
 "nbformat_minor": 2
}