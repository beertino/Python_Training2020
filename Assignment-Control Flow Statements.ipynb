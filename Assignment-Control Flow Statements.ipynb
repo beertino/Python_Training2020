{
 "cells": [
  {
   "cell_type": "markdown",
   "metadata": {
    "slideshow": {
     "slide_type": "slide"
    }
   },
   "source": [
    "# Assignment - Control Flow Statements\n",
    "\n",
    "* Conditional statements\n",
    "* Loops\n",
    "* Iterating items from iterable objects"
   ]
  },
  {
   "cell_type": "markdown",
   "metadata": {
    "slideshow": {
     "slide_type": "slide"
    }
   },
   "source": [
    "## 1. Conditional Statements\n"
   ]
  },
  {
   "cell_type": "markdown",
   "metadata": {
    "slideshow": {
     "slide_type": "slide"
    }
   },
   "source": [
    "### Odd or Even\n",
    "Write a program that reads **an integer** from the standard input. Your program displays a message indicating whether the integer is **even** or **odd**.\n",
    "\n",
    "<u>Sample Output:</u>\n",
    "\n",
    "```Python\n",
    "Enter an integer: 4\n",
    "Even\n",
    "```"
   ]
  },
  {
   "cell_type": "code",
   "execution_count": 3,
   "metadata": {},
   "outputs": [
    {
     "name": "stdout",
     "output_type": "stream",
     "text": "Even\n"
    }
   ],
   "source": [
    "x=int(input('Enter an integer:'))\n",
    "\n",
    "if x%2==0:\n",
    "    print('Even')\n",
    "else:\n",
    "    print('Odd')"
   ]
  },
  {
   "cell_type": "markdown",
   "metadata": {
    "slideshow": {
     "slide_type": "slide"
    }
   },
   "source": [
    "### Human Year to Dog Year\n",
    "\n",
    "The age of a dog could be computed as follow:\n",
    "-   For the first two human years, dog year is 10.5 times of human year\n",
    "-   For additional human year, dog year is 4 times of human year.\n",
    "\n",
    "Implement a function `human_year_to_dog()` which converts human years to dog years\n",
    "* return `None` if input is a negative value\n",
    "\n",
    "Write a script to:\n",
    "* ask user to input a human year value;\n",
    "* call the function to get the equivalent dog year;\n",
    "* display to the result in 1 decimal points\n",
    "* display **Error** if the value is `None`\n",
    "\n",
    "<u>Sample Output:</u>\n",
    "\n",
    "```Python\n",
    "Human Year: 2\n",
    "Dog Year: 21.0\n",
    "Human Year: 1.513\n",
    "Dog Year: 15.9\n",
    "Human Year: -2\n",
    "Error\n",
    "```"
   ]
  },
  {
   "cell_type": "code",
   "execution_count": 8,
   "metadata": {},
   "outputs": [
    {
     "name": "stdout",
     "output_type": "stream",
     "text": "Error\n"
    }
   ],
   "source": [
    "def human_year_to_dog(x):\n",
    "    return 10.5*x\n",
    "    \n",
    "x=float(input('Human Year:'))\n",
    "if x>0:\n",
    "    print('Dog Year: {:.1f}'.format(human_year_to_dog(x)))\n",
    "else:    \n",
    "    print('Error')"
   ]
  },
  {
   "cell_type": "markdown",
   "metadata": {},
   "source": [
    "## 2. `while` Loop\n"
   ]
  },
  {
   "cell_type": "markdown",
   "metadata": {},
   "source": [
    "### Even Numbers Only\n",
    "\n",
    "Create a program which ask users to input even integers. Ignore the input if the number is not even. End the program after user entered 4 even numbers and display them. \n",
    "\n",
    "<u>Sample Output:</u>\n",
    "```\n",
    "Enter 4 even integers:\n",
    "10\n",
    "4\n",
    "5\n",
    "6\n",
    "8\n",
    "[10, 4, 6, 8]\n",
    "```"
   ]
  },
  {
   "cell_type": "code",
   "execution_count": null,
   "metadata": {},
   "outputs": [],
   "source": []
  },
  {
   "cell_type": "markdown",
   "metadata": {},
   "source": [
    "## 3. `for` Loop\n"
   ]
  },
  {
   "cell_type": "markdown",
   "metadata": {
    "slideshow": {
     "slide_type": "slide"
    }
   },
   "source": [
    "### Count Even and Odd Numbers\n",
    "\n",
    "Following code generates a list of random integers between 1 and 10 (both ends inclusive).\n",
    "\n",
    "```\n",
    "import random\n",
    "nums = [random.randint(1,10) for i in range(5)]\n",
    "print(nums)\n",
    "```\n",
    "\n",
    "Write a program which \n",
    "* generates 10 random integers between 1 and 100;\n",
    "* counts number of even and odd numbers in the list;\n",
    "* displays the result as show in Sample Output.\n",
    "\n",
    "<u>Sample Output:</u>\n",
    "\n",
    "```\n",
    "Random Numbers:  [18, 30, 26, 6, 83, 62, 18, 10, 32, 52]\n",
    "Odd = 1, Even = 9\n",
    "```"
   ]
  },
  {
   "cell_type": "code",
   "execution_count": 13,
   "metadata": {},
   "outputs": [
    {
     "name": "stdout",
     "output_type": "stream",
     "text": "Random Numbers: [84, 82, 34, 42, 41, 90, 89, 33, 62, 98]\nOdd = 3, Even = 7\n"
    }
   ],
   "source": [
    "import random\n",
    "nums = [random.randint(1,100) for i in range(10)]\n",
    "print('Random Numbers: {}'.format(nums))\n",
    "odd = [x for x in nums if x%2==1]\n",
    "print('Odd = {}, Even = {}'.format(len(odd),len(nums)-len(odd)))"
   ]
  },
  {
   "cell_type": "markdown",
   "metadata": {},
   "source": [
    "## Count Characters\n",
    "\n",
    "Implement a function `char_freq()` which \n",
    "* takes in a string\n",
    "* count the frequency of all characters in the string\n",
    "* return result in dictionary, where key is the character and value is the frequency\n",
    "\n",
    "Write a program to ask user for a sentence; call the function to get character frequency; diplay the result.\n",
    "\n",
    "<u>Sample Output:</u>\n",
    "```\n",
    "Enter a message: hello world\n",
    "{'h': 1, 'e': 1, 'l': 3, 'o': 2, ' ': 1, 'w': 1, 'r': 1, 'd': 1}\n",
    "```"
   ]
  },
  {
   "cell_type": "code",
   "execution_count": 22,
   "metadata": {},
   "outputs": [
    {
     "name": "stdout",
     "output_type": "stream",
     "text": "{'d': 1, 'h': 1, 'w': 1, 'o': 2, 'l': 3, 'e': 1, 'r': 1}\n"
    }
   ],
   "source": [
    "def char_freq(x):\n",
    "    l=x.split()\n",
    "    l=[list(j) for j in l ]\n",
    "    l=[x for j in l for x in j]\n",
    "    k=set(l)\n",
    "    d={j:l.count(j) for j in k  }\n",
    "    return d\n",
    "\n",
    "print(char_freq('hello world'))\n"
   ]
  },
  {
   "cell_type": "code",
   "execution_count": 18,
   "metadata": {},
   "outputs": [
    {
     "name": "stdout",
     "output_type": "stream",
     "text": "['h', 'e', 'l', 'l', 'o']\n['hello', 'world']\n"
    }
   ],
   "source": [
    "l=[]\n",
    "l='hello world'.split()\n",
    "\n",
    "print(l)"
   ]
  },
  {
   "cell_type": "code",
   "execution_count": null,
   "metadata": {},
   "outputs": [],
   "source": []
  }
 ],
 "metadata": {
  "kernelspec": {
   "display_name": "Python 3",
   "language": "python",
   "name": "python3"
  },
  "language_info": {
   "codemirror_mode": {
    "name": "ipython",
    "version": 3
   },
   "file_extension": ".py",
   "mimetype": "text/x-python",
   "name": "python",
   "nbconvert_exporter": "python",
   "pygments_lexer": "ipython3",
   "version": "3.7.4-final"
  }
 },
 "nbformat": 4,
 "nbformat_minor": 2
}