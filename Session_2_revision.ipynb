{
 "nbformat": 4,
 "nbformat_minor": 2,
 "metadata": {
  "language_info": {
   "name": "python",
   "codemirror_mode": {
    "name": "ipython",
    "version": 3
   },
   "version": "3.7.4-final"
  },
  "orig_nbformat": 2,
  "file_extension": ".py",
  "mimetype": "text/x-python",
  "name": "python",
  "npconvert_exporter": "python",
  "pygments_lexer": "ipython3",
  "version": 3,
  "kernelspec": {
   "name": "python3",
   "display_name": "Python 3"
  }
 },
 "cells": [
  {
   "cell_type": "code",
   "execution_count": null,
   "metadata": {},
   "outputs": [],
   "source": []
  },
  {
   "source": [
    "x = 15\n",
    "y = x\n",
    "print(x is y)\n",
    "print(x == y)"
   ],
   "cell_type": "code",
   "outputs": [
    {
     "output_type": "stream",
     "name": "stdout",
     "text": "True\nTrue\n"
    }
   ],
   "metadata": {},
   "execution_count": 2
  },
  {
   "source": [
    "s = [1,2,3,4]\n",
    "2 in s"
   ],
   "cell_type": "code",
   "outputs": [
    {
     "output_type": "execute_result",
     "data": {
      "text/plain": "True"
     },
     "metadata": {},
     "execution_count": 7
    }
   ],
   "metadata": {},
   "execution_count": 7
  },
  {
   "source": [
    "type(Out)"
   ],
   "cell_type": "code",
   "outputs": [
    {
     "output_type": "execute_result",
     "data": {
      "text/plain": "dict"
     },
     "metadata": {},
     "execution_count": 1
    }
   ],
   "metadata": {},
   "execution_count": 1
  },
  {
   "source": [
    "globals()"
   ],
   "cell_type": "code",
   "outputs": [
    {
     "output_type": "execute_result",
     "data": {
      "text/plain": "{'__name__': '__main__',\n '__doc__': 'Automatically created module for IPython interactive environment',\n '__package__': None,\n '__loader__': None,\n '__spec__': None,\n '__builtin__': <module 'builtins' (built-in)>,\n '__builtins__': <module 'builtins' (built-in)>,\n '_ih': ['',\n  'type(Out)',\n  'x = 15\\ny = x\\nprint(x is y)\\nprint(x == y)',\n  'globals()'],\n '_oh': {1: dict},\n '_dh': ['C:\\\\Users\\\\beert\\\\AppData\\\\Local\\\\Temp\\\\2c20bb4c-d7f3-4d70-868b-3a172e372bab',\n  'c:\\\\Users\\\\beert\\\\OneDrive\\\\Documents\\\\Python_Training2020\\\\Python_Training2020'],\n 'In': ['',\n  'type(Out)',\n  'x = 15\\ny = x\\nprint(x is y)\\nprint(x == y)',\n  'globals()'],\n 'Out': {1: dict},\n 'get_ipython': <bound method InteractiveShell.get_ipython of <ipykernel.zmqshell.ZMQInteractiveShell object at 0x00000207D53F2988>>,\n 'exit': <IPython.core.autocall.ZMQExitAutocall at 0x207d549f188>,\n 'quit': <IPython.core.autocall.ZMQExitAutocall at 0x207d549f188>,\n '_': dict,\n '__': '',\n '___': '',\n '_i': 'x = 15\\ny = x\\nprint(x is y)\\nprint(x == y)',\n '_ii': 'type(Out)',\n '_iii': '',\n '_i1': 'type(Out)',\n '_1': dict,\n '_i2': 'x = 15\\ny = x\\nprint(x is y)\\nprint(x == y)',\n 'x': 15,\n 'y': 15,\n '_i3': 'globals()'}"
     },
     "metadata": {},
     "execution_count": 3
    }
   ],
   "metadata": {},
   "execution_count": 3
  },
  {
   "cell_type": "code",
   "execution_count": null,
   "metadata": {},
   "outputs": [],
   "source": []
  }
 ]
}