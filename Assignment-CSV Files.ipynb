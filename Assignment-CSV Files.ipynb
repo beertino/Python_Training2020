{
 "cells": [
  {
   "cell_type": "markdown",
   "execution_count": null,
   "metadata": {},
   "outputs": [],
   "source": [
    "# Assignment - CSV Files"
   ]
  },
  {
   "cell_type": "markdown",
   "execution_count": null,
   "metadata": {},
   "outputs": [],
   "source": [
    "## 1. \n",
    "\n",
    "Using `csv` module, convert the csv file `olympics-medals.csv` into a tab-limited file `olympics-medals.tsv`."
   ]
  },
  {
   "cell_type": "code",
   "execution_count": null,
   "metadata": {},
   "outputs": [],
   "source": [
    "import csv\n",
    "\n",
    "with open('olympics-medals.csv') as f:\n",
    "    reader = csv.reader(f)\n",
    "    data = [r for r in reader]\n",
    "    \n",
    "with open('olympics-medals.tsv','w', newline='') as f: #newline='' is there so that there's no empty lines between rows\n",
    "    writer = csv.writer(f,delimiter='\\t')\n",
    "    for i in data:\n",
    "        writer.writerow(i)"
   ]
  },
  {
   "cell_type": "code",
   "execution_count": 19,
   "metadata": {},
   "outputs": [],
   "source": [
    "!notepad 'olympics-medals.csv'"
   ]
  },
  {
   "cell_type": "markdown",
   "execution_count": null,
   "metadata": {},
   "outputs": [],
   "source": [
    "## 2. \n",
    "\n",
    "Use csv module to implement following script:\n",
    "* Ask user to enter a country name\n",
    "* With data in the `olympics-medals.csv`, save records of that country into another file `<NOC>.csv`, where `<NOC>` is the NOC value of that country\n",
    "* Print out total number of medals won by that country\n",
    "\n",
    "<u>Sample Output:</u>\n",
    "```\n",
    "Country Name: singapore\n",
    "4\n",
    "```"
   ]
  },
  {
   "cell_type": "code",
   "execution_count": 18,
   "metadata": {},
   "outputs": [
    {
     "name": "stdout",
     "output_type": "stream",
     "text": "SIN\n\nSIN\n\nSIN\n4\n"
    }
   ],
   "source": [
    "import csv\n",
    "\n",
    "country_name=input('Please input a country name:')\n",
    "\n",
    "with open('olympics-medals.csv') as f:\n",
    "    reader = csv.DictReader(f)\n",
    "    data = [r for r in reader]\n",
    "    noc=[]\n",
    "    total=0\n",
    "    for x in data:\n",
    "        if x['Country']=='Singapore':\n",
    "            noc.append(x['NOC'])\n",
    "            try:\n",
    "                total=total+int(x['Total'])\n",
    "            except:\n",
    "                pass\n",
    "    x=list(set(noc))\n",
    "    with open(x[0]+'.csv','w') as f:\n",
    "            writer = csv.writer(f)\n",
    "                writer.writerow([total])\n",
    "\n"
   ]
  },
  {
   "cell_type": "code",
   "execution_count": null,
   "metadata": {},
   "outputs": [],
   "source": []
  },
  {
   "cell_type": "code",
   "execution_count": null,
   "metadata": {},
   "outputs": [],
   "source": [
    "!notepad singapore.csv"
   ]
  }
 ],
 "metadata": {
  "kernelspec": {
   "display_name": "Python 3",
   "language": "python",
   "name": "python3"
  },
  "language_info": {
   "codemirror_mode": {
    "name": "ipython",
    "version": 3
   },
   "file_extension": ".py",
   "mimetype": "text/x-python",
   "name": "python",
   "nbconvert_exporter": "python",
   "pygments_lexer": "ipython3",
   "version": "3.7.4-final"
  }
 },
 "nbformat": 4,
 "nbformat_minor": 2
}